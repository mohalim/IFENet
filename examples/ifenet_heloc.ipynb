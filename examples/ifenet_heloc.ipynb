{
 "cells": [
  {
   "cell_type": "markdown",
   "id": "5fd6aadf-a1f6-4baf-aa15-c56e9a5f8d60",
   "metadata": {},
   "source": [
    "https://www.tensorflow.org/tutorials/structured_data/imbalanced_data#class_weights\n",
    "\n",
    "https://medium.com/@zergtant/use-weighted-loss-function-to-solve-imbalanced-data-classification-problems-749237f38b75"
   ]
  },
  {
   "cell_type": "code",
   "execution_count": 1,
   "id": "010baf86-e1b6-4965-8601-203724753d81",
   "metadata": {},
   "outputs": [],
   "source": [
    "import sys\n",
    "import tensorflow as tf\n",
    "import matplotlib.pylab as plt\n",
    "import numpy as np\n",
    "import pandas as pd\n",
    "from matplotlib import pyplot as plt\n",
    "from sklearn.metrics import confusion_matrix, classification_report, accuracy_score\n",
    "\n",
    "sys.path.append(\"../tf_ifenet\")"
   ]
  },
  {
   "cell_type": "code",
   "execution_count": 2,
   "id": "0af4ff73-06df-472c-b2a7-e9368ac93f98",
   "metadata": {},
   "outputs": [
    {
     "name": "stdout",
     "output_type": "stream",
     "text": [
      "2.14.1\n"
     ]
    }
   ],
   "source": [
    "print(tf.__version__)"
   ]
  },
  {
   "cell_type": "code",
   "execution_count": 3,
   "id": "cf9d1046-3839-46e1-bc7a-5ffa784f9f47",
   "metadata": {},
   "outputs": [],
   "source": [
    "from model import IFENetClassifier\n",
    "from config import DataConfig, ModelConfig\n",
    "from utility import dataframe_to_dataset"
   ]
  },
  {
   "cell_type": "code",
   "execution_count": 4,
   "id": "0db88b55-7d7d-4ff6-93ef-14ec44df5f6c",
   "metadata": {},
   "outputs": [
    {
     "data": {
      "text/plain": [
       "(10459, 24)"
      ]
     },
     "execution_count": 4,
     "metadata": {},
     "output_type": "execute_result"
    }
   ],
   "source": [
    "filepath = 'heloc.data.csv'\n",
    "df = pd.read_csv(filepath)\n",
    "\n",
    "columns = df.columns\n",
    "target_columns = ['RiskPerformance']\n",
    "\n",
    "num_col_names = ['ExternalRiskEstimate', 'MSinceOldestTradeOpen', 'MSinceMostRecentTradeOpen',\n",
    "                 'AverageMInFile', 'NumSatisfactoryTrades', 'NumTrades60Ever2DerogPubRec', \n",
    "                 'NumTrades90Ever2DerogPubRec', 'PercentTradesNeverDelq', 'MSinceMostRecentDelq',\n",
    "                 'MaxDelq2PublicRecLast12M', 'MaxDelqEver', 'NumTotalTrades',\n",
    "                 'NumTradesOpeninLast12M', 'PercentInstallTrades', 'MSinceMostRecentInqexcl7days', \n",
    "                 'NumInqLast6M', 'NumInqLast6Mexcl7days', 'NetFractionRevolvingBurden', \n",
    "                 'NetFractionInstallBurden', 'NumRevolvingTradesWBalance', 'NumInstallTradesWBalance',\n",
    "                 'NumBank2NatlTradesWHighUtilization', 'PercentTradesWBalance']\n",
    "cat_col_names = []\n",
    "df.shape"
   ]
  },
  {
   "cell_type": "code",
   "execution_count": 5,
   "id": "a6ad0a90-4201-4234-87de-77b75db97829",
   "metadata": {},
   "outputs": [
    {
     "name": "stdout",
     "output_type": "stream",
     "text": [
      "Training set: (7000, 24)\n",
      "Validation set: (1359, 24)\n",
      "Test set: (2100, 24)\n"
     ]
    }
   ],
   "source": [
    "from sklearn.model_selection import train_test_split\n",
    "\n",
    "# This split is according to Tab Survey (Borisov et al., 2022)\n",
    "train_size = 8359\n",
    "tmp, test = train_test_split(df, train_size=train_size, random_state=0)\n",
    "train, vald = train_test_split(tmp, train_size=7000, random_state=0)\n",
    "\n",
    "print(f'Training set: {train.shape}')\n",
    "print(f'Validation set: {vald.shape}')\n",
    "print(f'Test set: {test.shape}')\n",
    "\n",
    "batch_size = 256\n",
    "train_ds = dataframe_to_dataset(train, target_columns, batch_size=batch_size)\n",
    "vald_ds = dataframe_to_dataset(vald, target_columns, shuffle=False, batch_size=batch_size)\n",
    "test_ds = dataframe_to_dataset(test, target_columns, shuffle=False, batch_size=batch_size)"
   ]
  },
  {
   "cell_type": "code",
   "execution_count": 6,
   "id": "636946e9-9533-42df-8af0-947b071c2f44",
   "metadata": {},
   "outputs": [],
   "source": [
    "data_config = DataConfig(categorical_column_names=cat_col_names, \n",
    "                         numerical_column_names=num_col_names,\n",
    "                         category_output_mode='one_hot',\n",
    "                         is_normalization=False)\n",
    "model_config = ModelConfig(num_att=16,\n",
    "                           r=3.5,\n",
    "                           clf_num_layers=1,\n",
    "                           clf_hidden_units=[32],\n",
    "                           reduction_layer='flatten')\n",
    "\n",
    "model = IFENetClassifier(data_config, model_config)\n",
    "model.build_model(train_ds)"
   ]
  },
  {
   "cell_type": "code",
   "execution_count": 7,
   "id": "565ff4db-873b-42a2-9c0d-811dab9ceda5",
   "metadata": {},
   "outputs": [],
   "source": [
    "loss_fn = tf.keras.losses.SparseCategoricalCrossentropy()\n",
    "\n",
    "lr = 0.01\n",
    "lr_scheduler = tf.keras.optimizers.schedules.ExponentialDecay(initial_learning_rate=lr, \n",
    "                                                              decay_steps=2000,\n",
    "                                                              decay_rate=0.95,\n",
    "                                                              staircase=True)\n",
    "optimizer = tf.keras.optimizers.Adam(learning_rate=lr_scheduler)\n",
    "\n",
    "checkpoint_path = 'checkpoints/ifeNet_heloc.h5'\n",
    "patience = 500\n",
    "callbacks = [tf.keras.callbacks.EarlyStopping(patience=patience, monitor='val_loss'),\n",
    "             tf.keras.callbacks.ModelCheckpoint(filepath=checkpoint_path, save_weights_only=True, monitor='val_accuracy')]\n",
    "\n",
    "epochs = 5\n",
    "model.compile(optimizer=optimizer, loss=loss_fn, metrics=['accuracy'])"
   ]
  },
  {
   "cell_type": "code",
   "execution_count": 8,
   "id": "f5962958-ed12-440a-924f-cd9f26c7f7d9",
   "metadata": {},
   "outputs": [
    {
     "name": "stdout",
     "output_type": "stream",
     "text": [
      "Epoch 1/5\n",
      "28/28 [==============================] - 7s 61ms/step - loss: 0.6080 - accuracy: 0.6934 - val_loss: 0.9501 - val_accuracy: 0.4820\n",
      "Epoch 2/5\n",
      "28/28 [==============================] - 1s 32ms/step - loss: 0.5561 - accuracy: 0.7211 - val_loss: 0.7363 - val_accuracy: 0.5202\n",
      "Epoch 3/5\n",
      "28/28 [==============================] - 1s 34ms/step - loss: 0.5575 - accuracy: 0.7201 - val_loss: 0.7043 - val_accuracy: 0.5386\n",
      "Epoch 4/5\n",
      "28/28 [==============================] - 1s 31ms/step - loss: 0.5521 - accuracy: 0.7234 - val_loss: 0.6642 - val_accuracy: 0.5850\n",
      "Epoch 5/5\n",
      "28/28 [==============================] - 1s 34ms/step - loss: 0.5490 - accuracy: 0.7249 - val_loss: 0.6490 - val_accuracy: 0.6019\n"
     ]
    }
   ],
   "source": [
    "saved_model_path = 'saved_model/ifeNet_heloc.keras'\n",
    "model.fit(train_ds, validation_data=vald_ds, epochs=epochs, callbacks=callbacks)\n",
    "model.load_weights(checkpoint_path)\n",
    "model.save(saved_model_path)"
   ]
  },
  {
   "cell_type": "code",
   "execution_count": 9,
   "id": "0a74b49b-323b-4b7a-93dc-3a5c3a87b9d7",
   "metadata": {},
   "outputs": [],
   "source": [
    "ifenet = tf.keras.models.load_model(saved_model_path, safe_mode=False)"
   ]
  },
  {
   "cell_type": "code",
   "execution_count": 10,
   "id": "bd582be9-e439-4e15-b2cc-940a8c055dad",
   "metadata": {},
   "outputs": [],
   "source": [
    "y_pred = np.empty((0,))\n",
    "y_test = np.empty((0,))\n",
    "\n",
    "for data,label in test_ds.take(2):\n",
    "    y_hat = ifenet(data)\n",
    "    y_hat = np.argmax(y_hat, axis=-1)\n",
    "    y_pred = np.append(y_pred, y_hat.ravel())\n",
    "\n",
    "    label = label.numpy()\n",
    "    y_test = np.append(y_test, label.ravel())"
   ]
  },
  {
   "cell_type": "code",
   "execution_count": 11,
   "id": "52cb55c4-d799-41dc-8aa1-f64661b402e2",
   "metadata": {},
   "outputs": [
    {
     "name": "stdout",
     "output_type": "stream",
     "text": [
      "0.646484375\n",
      "[[110 153]\n",
      " [ 28 221]]\n",
      "              precision    recall  f1-score   support\n",
      "\n",
      "         0.0       0.80      0.42      0.55       263\n",
      "         1.0       0.59      0.89      0.71       249\n",
      "\n",
      "    accuracy                           0.65       512\n",
      "   macro avg       0.69      0.65      0.63       512\n",
      "weighted avg       0.70      0.65      0.63       512\n",
      "\n"
     ]
    }
   ],
   "source": [
    "print(accuracy_score(y_test, y_pred))\n",
    "print(confusion_matrix(y_test, y_pred))\n",
    "print(classification_report(y_test, y_pred))"
   ]
  },
  {
   "cell_type": "code",
   "execution_count": 12,
   "id": "fb837ad3-dbd2-4a93-b565-a1e607a9585e",
   "metadata": {},
   "outputs": [
    {
     "data": {
      "text/html": [
       "<div>\n",
       "<style scoped>\n",
       "    .dataframe tbody tr th:only-of-type {\n",
       "        vertical-align: middle;\n",
       "    }\n",
       "\n",
       "    .dataframe tbody tr th {\n",
       "        vertical-align: top;\n",
       "    }\n",
       "\n",
       "    .dataframe thead th {\n",
       "        text-align: right;\n",
       "    }\n",
       "</style>\n",
       "<table border=\"1\" class=\"dataframe\">\n",
       "  <thead>\n",
       "    <tr style=\"text-align: right;\">\n",
       "      <th></th>\n",
       "      <th>Feature</th>\n",
       "      <th>Score</th>\n",
       "    </tr>\n",
       "  </thead>\n",
       "  <tbody>\n",
       "    <tr>\n",
       "      <th>7</th>\n",
       "      <td>PercentTradesNeverDelq[0]</td>\n",
       "      <td>0.077441</td>\n",
       "    </tr>\n",
       "    <tr>\n",
       "      <th>9</th>\n",
       "      <td>MaxDelq2PublicRecLast12M[0]</td>\n",
       "      <td>0.056392</td>\n",
       "    </tr>\n",
       "    <tr>\n",
       "      <th>0</th>\n",
       "      <td>ExternalRiskEstimate[0]</td>\n",
       "      <td>0.056269</td>\n",
       "    </tr>\n",
       "    <tr>\n",
       "      <th>21</th>\n",
       "      <td>NumBank2NatlTradesWHighUtilization[0]</td>\n",
       "      <td>0.047890</td>\n",
       "    </tr>\n",
       "    <tr>\n",
       "      <th>14</th>\n",
       "      <td>MSinceMostRecentInqexcl7days[0]</td>\n",
       "      <td>0.045895</td>\n",
       "    </tr>\n",
       "    <tr>\n",
       "      <th>3</th>\n",
       "      <td>AverageMInFile[0]</td>\n",
       "      <td>0.045642</td>\n",
       "    </tr>\n",
       "    <tr>\n",
       "      <th>22</th>\n",
       "      <td>PercentTradesWBalance[0]</td>\n",
       "      <td>0.045475</td>\n",
       "    </tr>\n",
       "    <tr>\n",
       "      <th>20</th>\n",
       "      <td>NumInstallTradesWBalance[0]</td>\n",
       "      <td>0.044967</td>\n",
       "    </tr>\n",
       "    <tr>\n",
       "      <th>16</th>\n",
       "      <td>NumInqLast6Mexcl7days[0]</td>\n",
       "      <td>0.044369</td>\n",
       "    </tr>\n",
       "    <tr>\n",
       "      <th>19</th>\n",
       "      <td>NumRevolvingTradesWBalance[0]</td>\n",
       "      <td>0.042560</td>\n",
       "    </tr>\n",
       "    <tr>\n",
       "      <th>4</th>\n",
       "      <td>NumSatisfactoryTrades[0]</td>\n",
       "      <td>0.041384</td>\n",
       "    </tr>\n",
       "    <tr>\n",
       "      <th>10</th>\n",
       "      <td>MaxDelqEver[0]</td>\n",
       "      <td>0.041039</td>\n",
       "    </tr>\n",
       "    <tr>\n",
       "      <th>12</th>\n",
       "      <td>NumTradesOpeninLast12M[0]</td>\n",
       "      <td>0.040702</td>\n",
       "    </tr>\n",
       "    <tr>\n",
       "      <th>15</th>\n",
       "      <td>NumInqLast6M[0]</td>\n",
       "      <td>0.040638</td>\n",
       "    </tr>\n",
       "    <tr>\n",
       "      <th>6</th>\n",
       "      <td>NumTrades90Ever2DerogPubRec[0]</td>\n",
       "      <td>0.039674</td>\n",
       "    </tr>\n",
       "    <tr>\n",
       "      <th>5</th>\n",
       "      <td>NumTrades60Ever2DerogPubRec[0]</td>\n",
       "      <td>0.039263</td>\n",
       "    </tr>\n",
       "    <tr>\n",
       "      <th>17</th>\n",
       "      <td>NetFractionRevolvingBurden[0]</td>\n",
       "      <td>0.038102</td>\n",
       "    </tr>\n",
       "    <tr>\n",
       "      <th>13</th>\n",
       "      <td>PercentInstallTrades[0]</td>\n",
       "      <td>0.037088</td>\n",
       "    </tr>\n",
       "    <tr>\n",
       "      <th>1</th>\n",
       "      <td>MSinceOldestTradeOpen[0]</td>\n",
       "      <td>0.036515</td>\n",
       "    </tr>\n",
       "    <tr>\n",
       "      <th>11</th>\n",
       "      <td>NumTotalTrades[0]</td>\n",
       "      <td>0.036140</td>\n",
       "    </tr>\n",
       "    <tr>\n",
       "      <th>8</th>\n",
       "      <td>MSinceMostRecentDelq[0]</td>\n",
       "      <td>0.035456</td>\n",
       "    </tr>\n",
       "    <tr>\n",
       "      <th>2</th>\n",
       "      <td>MSinceMostRecentTradeOpen[0]</td>\n",
       "      <td>0.034157</td>\n",
       "    </tr>\n",
       "    <tr>\n",
       "      <th>18</th>\n",
       "      <td>NetFractionInstallBurden[0]</td>\n",
       "      <td>0.032941</td>\n",
       "    </tr>\n",
       "  </tbody>\n",
       "</table>\n",
       "</div>"
      ],
      "text/plain": [
       "                                  Feature     Score\n",
       "7               PercentTradesNeverDelq[0]  0.077441\n",
       "9             MaxDelq2PublicRecLast12M[0]  0.056392\n",
       "0                 ExternalRiskEstimate[0]  0.056269\n",
       "21  NumBank2NatlTradesWHighUtilization[0]  0.047890\n",
       "14        MSinceMostRecentInqexcl7days[0]  0.045895\n",
       "3                       AverageMInFile[0]  0.045642\n",
       "22               PercentTradesWBalance[0]  0.045475\n",
       "20            NumInstallTradesWBalance[0]  0.044967\n",
       "16               NumInqLast6Mexcl7days[0]  0.044369\n",
       "19          NumRevolvingTradesWBalance[0]  0.042560\n",
       "4                NumSatisfactoryTrades[0]  0.041384\n",
       "10                         MaxDelqEver[0]  0.041039\n",
       "12              NumTradesOpeninLast12M[0]  0.040702\n",
       "15                        NumInqLast6M[0]  0.040638\n",
       "6          NumTrades90Ever2DerogPubRec[0]  0.039674\n",
       "5          NumTrades60Ever2DerogPubRec[0]  0.039263\n",
       "17          NetFractionRevolvingBurden[0]  0.038102\n",
       "13                PercentInstallTrades[0]  0.037088\n",
       "1                MSinceOldestTradeOpen[0]  0.036515\n",
       "11                      NumTotalTrades[0]  0.036140\n",
       "8                 MSinceMostRecentDelq[0]  0.035456\n",
       "2            MSinceMostRecentTradeOpen[0]  0.034157\n",
       "18            NetFractionInstallBurden[0]  0.032941"
      ]
     },
     "execution_count": 12,
     "metadata": {},
     "output_type": "execute_result"
    }
   ],
   "source": [
    "ifenet(next(iter(test_ds.map(lambda x,y: x))))\n",
    "df = ifenet.get_feature_importance()\n",
    "df"
   ]
  },
  {
   "cell_type": "code",
   "execution_count": null,
   "id": "1d866e6c-c0cb-478d-83c6-205ee36fc2a7",
   "metadata": {},
   "outputs": [],
   "source": []
  }
 ],
 "metadata": {
  "kernelspec": {
   "display_name": "Python 3 (ipykernel)",
   "language": "python",
   "name": "python3"
  },
  "language_info": {
   "codemirror_mode": {
    "name": "ipython",
    "version": 3
   },
   "file_extension": ".py",
   "mimetype": "text/x-python",
   "name": "python",
   "nbconvert_exporter": "python",
   "pygments_lexer": "ipython3",
   "version": "3.9.20"
  }
 },
 "nbformat": 4,
 "nbformat_minor": 5
}
