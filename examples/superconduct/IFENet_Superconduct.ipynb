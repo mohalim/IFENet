{
 "cells": [
  {
   "cell_type": "markdown",
   "id": "7bcd1f5d-0bf6-4595-bedd-dd3b26f9f9d1",
   "metadata": {},
   "source": [
    "Ref: \n",
    "\n",
    "http://gaussianprocess.org/gpml/data/\n",
    "\n",
    "Dataset is taken from: https://www.openml.org/search?type=data&sort=runs&id=44148&status=active"
   ]
  },
  {
   "cell_type": "code",
   "execution_count": 9,
   "id": "d1d15824-1ec5-48f8-89b8-a58e8c075cf3",
   "metadata": {},
   "outputs": [],
   "source": [
    "import sys\n",
    "import tensorflow as tf\n",
    "import matplotlib.pylab as plt\n",
    "import numpy as np\n",
    "import pandas as pd\n",
    "from matplotlib import pyplot as plt\n",
    "from sklearn.metrics import mean_squared_error, r2_score, mean_absolute_error\n",
    "\n",
    "sys.path.append(\"../\")"
   ]
  },
  {
   "cell_type": "code",
   "execution_count": 10,
   "id": "d4e6754d-b3a5-4c24-8455-2bc0404c9957",
   "metadata": {},
   "outputs": [
    {
     "name": "stdout",
     "output_type": "stream",
     "text": [
      "2.14.1\n"
     ]
    }
   ],
   "source": [
    "print(tf.__version__)"
   ]
  },
  {
   "cell_type": "markdown",
   "id": "aff9e313-7d6f-44fc-ae87-4a84bb643696",
   "metadata": {},
   "source": [
    "These features are excluded according to openml: \n",
    "number_of_elements, range_Valence"
   ]
  },
  {
   "cell_type": "code",
   "execution_count": 11,
   "id": "76a5f3ea-be07-4747-ac52-bba41e8aad58",
   "metadata": {},
   "outputs": [
    {
     "name": "stdout",
     "output_type": "stream",
     "text": [
      "(21263, 80)\n"
     ]
    }
   ],
   "source": [
    "filepath = 'superconduct.csv'\n",
    "\n",
    "# read dataset\n",
    "df = pd.read_csv(filepath)\n",
    "#df = df.drop(columns=['number_of_elements','range_Valence'])\n",
    "columns = list(df.columns)\n",
    "target = 'critical_temp'\n",
    "print(df.shape)"
   ]
  },
  {
   "cell_type": "code",
   "execution_count": 8,
   "id": "a2057f03-5618-4211-a734-f3710e90235c",
   "metadata": {},
   "outputs": [
    {
     "name": "stdout",
     "output_type": "stream",
     "text": [
      "X_train.shape: (10000, 79)\n",
      "X_vald.shape: (3378, 79)\n",
      "X_test.shape: (7885, 79)\n",
      "y_train.shape: (10000,)\n",
      "y_vald.shape: (3378,)\n",
      "y_test.shape: (7885,)\n"
     ]
    }
   ],
   "source": [
    "from sklearn.model_selection import train_test_split\n",
    "\n",
    "y = df[target].values\n",
    "X = df.drop(columns=[target]).values\n",
    "\n",
    "X_tmp, X_test, y_tmp, y_test = train_test_split(X, y, train_size=13378, random_state=0)\n",
    "X_train, X_vald, y_train, y_vald = train_test_split(X_tmp, y_tmp, train_size=10000, random_state=0)\n",
    "\n",
    "print(f'X_train.shape: {X_train.shape}')\n",
    "print(f'X_vald.shape: {X_vald.shape}')\n",
    "print(f'X_test.shape: {X_test.shape}')\n",
    "print(f'y_train.shape: {y_train.shape}')\n",
    "print(f'y_vald.shape: {y_vald.shape}')\n",
    "print(f'y_test.shape: {y_test.shape}')"
   ]
  },
  {
   "cell_type": "code",
   "execution_count": 14,
   "id": "3f877e3a-c715-4230-b1b1-1bca39b3c569",
   "metadata": {},
   "outputs": [
    {
     "data": {
      "text/plain": [
       "1"
      ]
     },
     "execution_count": 14,
     "metadata": {},
     "output_type": "execute_result"
    }
   ],
   "source": [
    "len([target])"
   ]
  },
  {
   "cell_type": "code",
   "execution_count": 36,
   "id": "bbbaf346-b058-42ba-83bd-02f5725af7d3",
   "metadata": {},
   "outputs": [],
   "source": [
    "# Normalize target column\n",
    "'''\n",
    "from sklearn.preprocessing import StandardScaler\n",
    "\n",
    "scaler = StandardScaler()\n",
    "y_train = scaler.fit_transform(y_train.reshape((-1,1)))\n",
    "y_vald = scaler.transform(y_vald.reshape((-1,1)))\n",
    "y_test = scaler.transform(y_test.reshape((-1,1)))\n",
    "\n",
    "y_train = y_train.ravel()\n",
    "y_vald = y_vald.ravel()\n",
    "y_test = y_test.ravel()'''"
   ]
  },
  {
   "cell_type": "code",
   "execution_count": 10,
   "id": "6eda3714-c00e-4a7a-ad0d-6d15bfe7ca46",
   "metadata": {},
   "outputs": [],
   "source": [
    "def array_to_dataset(data, target, shuffle=True, batch_size=128):\n",
    "    ds = tf.data.Dataset.from_tensor_slices((data, target))\n",
    "    if shuffle:\n",
    "        ds = ds.shuffle(batch_size*2).batch(batch_size).prefetch(batch_size)\n",
    "    else:\n",
    "        ds = ds.batch(batch_size)\n",
    "    return ds\n",
    "\n",
    "batch_size = 512\n",
    "train_ds = array_to_dataset(X_train, y_train, batch_size=batch_size)\n",
    "vald_ds = array_to_dataset(X_vald, y_vald, shuffle=False, batch_size=batch_size)\n",
    "test_ds = array_to_dataset(X_test, y_test, shuffle=False, batch_size=batch_size)"
   ]
  },
  {
   "cell_type": "code",
   "execution_count": null,
   "id": "9ed0c5ca-a6fe-4955-8ed7-19d1b96a1ddf",
   "metadata": {},
   "outputs": [],
   "source": []
  },
  {
   "cell_type": "code",
   "execution_count": 14,
   "id": "4bc8b2fd-fd07-4ce8-9357-8771924dd24c",
   "metadata": {},
   "outputs": [
    {
     "name": "stdout",
     "output_type": "stream",
     "text": [
      "n_response: 13\n",
      "n_features: 81\n"
     ]
    }
   ],
   "source": [
    "from ife import IFENetRegressor\n",
    "\n",
    "n_features = X_train.shape[1]\n",
    "_, counts = np.unique(y_train, return_counts=True)\n",
    "n_response = len(target)\n",
    "ife_num_layers = 1\n",
    "clf_num_layers = 1\n",
    "clf_hidden_units = [64]\n",
    "reduction_layer = 'average'\n",
    "num_att = 64\n",
    "r = 4.15\n",
    "\n",
    "print(f'n_response: {n_response}')\n",
    "print(f'n_features: {n_features}')\n",
    "\n",
    "ife_params = {'n_features': n_features,\n",
    "              'n_outputs': n_response,\n",
    "              'num_att': num_att,\n",
    "              'r': r,\n",
    "              'ife_num_layers': ife_num_layers, \n",
    "              'clf_num_layers': clf_num_layers,\n",
    "              'clf_hidden_units': clf_hidden_units,\n",
    "              'reduction_layer': reduction_layer\n",
    "             }\n",
    "model = IFENetRegressor(**ife_params)"
   ]
  },
  {
   "cell_type": "code",
   "execution_count": 15,
   "id": "880a1ff3-f3b8-40d6-9acb-ae5a230d5fa7",
   "metadata": {},
   "outputs": [],
   "source": [
    "loss_fn = tf.keras.losses.MeanSquaredError()\n",
    "\n",
    "lr = 0.015\n",
    "lr_scheduler = tf.keras.optimizers.schedules.ExponentialDecay(initial_learning_rate=lr, \n",
    "                                                              decay_steps=2000,\n",
    "                                                              decay_rate=0.95,\n",
    "                                                              staircase=True)\n",
    "optimizer = tf.keras.optimizers.Adam(learning_rate=lr_scheduler)\n",
    "\n",
    "checkpoint_path = 'checkpoints/ifeNet_superconduct.h5'\n",
    "patience = 100\n",
    "callbacks = [tf.keras.callbacks.EarlyStopping(patience=patience, monitor='val_loss'),\n",
    "             tf.keras.callbacks.ModelCheckpoint(filepath=checkpoint_path, save_weights_only=True, monitor='val_loss')]\n",
    "\n",
    "epochs = 100\n",
    "model.compile(optimizer=optimizer, loss=loss_fn, metrics=['mae'])"
   ]
  },
  {
   "cell_type": "code",
   "execution_count": null,
   "id": "d115a606-fe04-4b8a-8f68-a1037f1a69d7",
   "metadata": {},
   "outputs": [
    {
     "name": "stdout",
     "output_type": "stream",
     "text": [
      "Epoch 1/100\n"
     ]
    }
   ],
   "source": [
    "saved_model_path = 'saved_model/ifeNet_superconduct.h5'\n",
    "model.fit(train_ds, validation_data=vald_ds, epochs=epochs, callbacks=callbacks, verbose=2)\n",
    "model.load_weights(checkpoint_path)\n",
    "model.save_weights(saved_model_path)"
   ]
  },
  {
   "cell_type": "code",
   "execution_count": 16,
   "id": "c9b2b282-7d61-40ac-970a-daa7622fff05",
   "metadata": {},
   "outputs": [],
   "source": [
    "y_pred = np.empty((0,))\n",
    "y_test = np.empty((0,))\n",
    "\n",
    "for data,label in test_ds:\n",
    "    y_hat = model(data)\n",
    "    y_pred = np.append(y_pred, y_hat.numpy().ravel())\n",
    "\n",
    "    label = label.numpy()\n",
    "    y_test = np.append(y_test, label.ravel())"
   ]
  },
  {
   "cell_type": "code",
   "execution_count": 24,
   "id": "0ed38f21-de07-4e91-858f-38fa7c6c3ea4",
   "metadata": {},
   "outputs": [
    {
     "data": {
      "text/plain": [
       "0.6583020687103271"
      ]
     },
     "execution_count": 24,
     "metadata": {},
     "output_type": "execute_result"
    }
   ],
   "source": [
    "y_pred.max()"
   ]
  },
  {
   "cell_type": "code",
   "execution_count": 25,
   "id": "50cf3817-245d-4c86-8f77-48a4c181c08a",
   "metadata": {},
   "outputs": [
    {
     "name": "stdout",
     "output_type": "stream",
     "text": [
      "0.4528119753756158\n",
      "0.0054882658180464205\n",
      "0.056801059710301555\n"
     ]
    }
   ],
   "source": [
    "print(r2_score(y_test, y_pred))\n",
    "print(mean_squared_error(y_test, y_pred))\n",
    "print(mean_absolute_error(y_test, y_pred))"
   ]
  },
  {
   "cell_type": "code",
   "execution_count": null,
   "id": "7e9d7509-0884-4559-9ce0-92c80a89b8ab",
   "metadata": {},
   "outputs": [],
   "source": []
  }
 ],
 "metadata": {
  "kernelspec": {
   "display_name": "Python 3 (ipykernel)",
   "language": "python",
   "name": "python3"
  },
  "language_info": {
   "codemirror_mode": {
    "name": "ipython",
    "version": 3
   },
   "file_extension": ".py",
   "mimetype": "text/x-python",
   "name": "python",
   "nbconvert_exporter": "python",
   "pygments_lexer": "ipython3",
   "version": "3.9.20"
  }
 },
 "nbformat": 4,
 "nbformat_minor": 5
}
