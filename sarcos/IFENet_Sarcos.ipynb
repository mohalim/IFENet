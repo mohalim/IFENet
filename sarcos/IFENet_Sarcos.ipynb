{
 "cells": [
  {
   "cell_type": "markdown",
   "id": "7bcd1f5d-0bf6-4595-bedd-dd3b26f9f9d1",
   "metadata": {},
   "source": [
    "Ref: \n",
    "\n",
    "http://gaussianprocess.org/gpml/data/\n",
    "\n",
    "Split ratio: https://github.com/Kaixhin/SARCOS"
   ]
  },
  {
   "cell_type": "code",
   "execution_count": 1,
   "id": "d1d15824-1ec5-48f8-89b8-a58e8c075cf3",
   "metadata": {},
   "outputs": [],
   "source": [
    "import sys\n",
    "import tensorflow as tf\n",
    "import matplotlib.pylab as plt\n",
    "import numpy as np\n",
    "import pandas as pd\n",
    "from matplotlib import pyplot as plt\n",
    "from sklearn.metrics import mean_squared_error, r2_score, mean_absolute_error\n",
    "\n",
    "sys.path.append(\"../\")"
   ]
  },
  {
   "cell_type": "code",
   "execution_count": 2,
   "id": "d4e6754d-b3a5-4c24-8455-2bc0404c9957",
   "metadata": {},
   "outputs": [
    {
     "name": "stdout",
     "output_type": "stream",
     "text": [
      "2.14.1\n"
     ]
    }
   ],
   "source": [
    "print(tf.__version__)"
   ]
  },
  {
   "cell_type": "code",
   "execution_count": 3,
   "id": "76a5f3ea-be07-4747-ac52-bba41e8aad58",
   "metadata": {},
   "outputs": [
    {
     "data": {
      "text/plain": [
       "Index(['0', '1', '2', '3', '4', '5', '6', '7', '8', '9', '10', '11', '12',\n",
       "       '13', '14', '15', '16', '17', '18', '19', '20', '21', '22', '23', '24',\n",
       "       '25', '26', '27'],\n",
       "      dtype='object')"
      ]
     },
     "execution_count": 3,
     "metadata": {},
     "output_type": "execute_result"
    }
   ],
   "source": [
    "filepath_train = 'sarcos_inv.csv'\n",
    "filepath_test = 'sarcos_inv_test.csv'\n",
    "\n",
    "features = [c for c in range(0,21)]\n",
    "targets = [c for c in range(21,28)]\n",
    "\n",
    "# read training set\n",
    "df_train = pd.read_csv(filepath_train)\n",
    "#df_train = df_train.iloc[:,columns]\n",
    "\n",
    "# read test set\n",
    "df_test = pd.read_csv(filepath_test)\n",
    "#df_test = df_test.iloc[:,columns]\n",
    "df_train.columns"
   ]
  },
  {
   "cell_type": "code",
   "execution_count": 4,
   "id": "e521dfdc-1ce7-4757-a5a2-86f1662024ef",
   "metadata": {},
   "outputs": [
    {
     "data": {
      "text/plain": [
       "7"
      ]
     },
     "execution_count": 4,
     "metadata": {},
     "output_type": "execute_result"
    }
   ],
   "source": [
    "len(targets)"
   ]
  },
  {
   "cell_type": "code",
   "execution_count": 5,
   "id": "a2057f03-5618-4211-a734-f3710e90235c",
   "metadata": {},
   "outputs": [
    {
     "name": "stdout",
     "output_type": "stream",
     "text": [
      "X_train.shape: (39984, 21)\n",
      "X_vald.shape: (4500, 21)\n",
      "X_test.shape: (4449, 21)\n",
      "y_train.shape: (39984, 7)\n",
      "y_vald.shape: (4500, 7)\n",
      "y_test.shape: (4449, 7)\n"
     ]
    }
   ],
   "source": [
    "from sklearn.model_selection import train_test_split\n",
    "\n",
    "y_train = df_train.iloc[:,targets].values\n",
    "X_train = df_train.iloc[:,features].values\n",
    "y_test = df_test.iloc[:,targets].values\n",
    "X_test = df_test.iloc[:,features].values\n",
    "\n",
    "X_train, X_vald, y_train, y_vald = train_test_split(X_train, y_train, test_size=4500, random_state=0)\n",
    "\n",
    "print(f'X_train.shape: {X_train.shape}')\n",
    "print(f'X_vald.shape: {X_vald.shape}')\n",
    "print(f'X_test.shape: {X_test.shape}')\n",
    "print(f'y_train.shape: {y_train.shape}')\n",
    "print(f'y_vald.shape: {y_vald.shape}')\n",
    "print(f'y_test.shape: {y_test.shape}')"
   ]
  },
  {
   "cell_type": "code",
   "execution_count": 6,
   "id": "bbbaf346-b058-42ba-83bd-02f5725af7d3",
   "metadata": {},
   "outputs": [
    {
     "name": "stdout",
     "output_type": "stream",
     "text": [
      "(39984, 7)\n"
     ]
    }
   ],
   "source": [
    "# Normalize target column\n",
    "'''\n",
    "from sklearn.preprocessing import StandardScaler\n",
    "\n",
    "scaler = StandardScaler()\n",
    "y_train = scaler.fit_transform(y_train)\n",
    "y_vald = scaler.transform(y_vald)\n",
    "y_test = scaler.transform(y_test)\n",
    "\n",
    "print(y_train.shape)\n",
    "'''"
   ]
  },
  {
   "cell_type": "code",
   "execution_count": 6,
   "id": "6eda3714-c00e-4a7a-ad0d-6d15bfe7ca46",
   "metadata": {},
   "outputs": [],
   "source": [
    "def array_to_dataset(data, target, shuffle=True, batch_size=128):\n",
    "    ds = tf.data.Dataset.from_tensor_slices((data, target))\n",
    "    if shuffle:\n",
    "        ds = ds.shuffle(batch_size*2).batch(batch_size).prefetch(batch_size)\n",
    "    else:\n",
    "        ds = ds.batch(batch_size)\n",
    "    return ds\n",
    "\n",
    "batch_size = 2048\n",
    "train_ds = array_to_dataset(X_train, y_train, batch_size=batch_size)\n",
    "vald_ds = array_to_dataset(X_vald, y_vald, shuffle=False, batch_size=batch_size)\n",
    "test_ds = array_to_dataset(X_test, y_test, shuffle=False, batch_size=batch_size)"
   ]
  },
  {
   "cell_type": "code",
   "execution_count": 8,
   "id": "4bc8b2fd-fd07-4ce8-9357-8771924dd24c",
   "metadata": {},
   "outputs": [
    {
     "name": "stdout",
     "output_type": "stream",
     "text": [
      "n_response: 7\n",
      "n_features: 21\n"
     ]
    }
   ],
   "source": [
    "from ife import IFENetRegressor\n",
    "\n",
    "n_features = X_train.shape[1]\n",
    "_, counts = np.unique(y_train, return_counts=True)\n",
    "n_response = len(targets)\n",
    "ife_num_layers = 1\n",
    "clf_num_layers = 1\n",
    "clf_hidden_units = [64]\n",
    "reduction_layer = 'average'\n",
    "num_att = 64\n",
    "r = 4.15\n",
    "\n",
    "print(f'n_response: {n_response}')\n",
    "print(f'n_features: {n_features}')\n",
    "\n",
    "ife_params = {'n_features': n_features,\n",
    "              'n_outputs': n_response,\n",
    "              'num_att': num_att,\n",
    "              'r': r,\n",
    "              'ife_num_layers': ife_num_layers, \n",
    "              'clf_num_layers': clf_num_layers,\n",
    "              'clf_hidden_units': clf_hidden_units,\n",
    "              'reduction_layer': reduction_layer\n",
    "             }\n",
    "model = IFENetRegressor(**ife_params)"
   ]
  },
  {
   "cell_type": "code",
   "execution_count": 9,
   "id": "e103e067-ece5-401a-af58-43477a8a044b",
   "metadata": {},
   "outputs": [
    {
     "name": "stdout",
     "output_type": "stream",
     "text": [
      "Model: \"model\"\n",
      "__________________________________________________________________________________________________\n",
      " Layer (type)                Output Shape                 Param #   Connected to                  \n",
      "==================================================================================================\n",
      " input_1 (InputLayer)        [(None, 21)]                 0         []                            \n",
      "                                                                                                  \n",
      " tf.compat.v1.shape (TFOpLa  (2,)                         0         ['input_1[0][0]']             \n",
      " mbda)                                                                                            \n",
      "                                                                                                  \n",
      " preprocess_batch_norm (Bat  (None, 21)                   84        ['input_1[0][0]']             \n",
      " chNormalization)                                                                                 \n",
      "                                                                                                  \n",
      " tf.__operators__.getitem (  ()                           0         ['tf.compat.v1.shape[0][0]']  \n",
      " SlicingOpLambda)                                                                                 \n",
      "                                                                                                  \n",
      " tf.broadcast_to (TFOpLambd  (64, None, 21)               0         ['preprocess_batch_norm[0][0]'\n",
      " a)                                                                 , 'tf.__operators__.getitem[0]\n",
      "                                                                    [0]']                         \n",
      "                                                                                                  \n",
      " iterative_feature_exclusio  (64, None, 21)               197568    ['preprocess_batch_norm[0][0]'\n",
      " n (IterativeFeatureExclusi                                         ]                             \n",
      " on)                                                                                              \n",
      "                                                                                                  \n",
      " tf.math.multiply (TFOpLamb  (64, None, 21)               0         ['tf.broadcast_to[0][0]',     \n",
      " da)                                                                 'iterative_feature_exclusion[\n",
      "                                                                    0][0]']                       \n",
      "                                                                                                  \n",
      " tf.compat.v1.transpose (TF  (None, 64, 21)               0         ['tf.math.multiply[0][0]']    \n",
      " OpLambda)                                                                                        \n",
      "                                                                                                  \n",
      " global_average_pooling1d (  (None, 21)                   0         ['tf.compat.v1.transpose[0][0]\n",
      " GlobalAveragePooling1D)                                            ']                            \n",
      "                                                                                                  \n",
      " fc_hidden_layers (Sequenti  (None, 64)                   1664      ['global_average_pooling1d[0][\n",
      " al)                                                                0]']                          \n",
      "                                                                                                  \n",
      " fc_out (Dense)              (None, 7)                    455       ['fc_hidden_layers[0][0]']    \n",
      "                                                                                                  \n",
      "==================================================================================================\n",
      "Total params: 199771 (780.36 KB)\n",
      "Trainable params: 199601 (779.69 KB)\n",
      "Non-trainable params: 170 (680.00 Byte)\n",
      "__________________________________________________________________________________________________\n"
     ]
    }
   ],
   "source": [
    "x = tf.keras.Input(shape=(n_features,))\n",
    "# x = tf.keras.layers.Input(shape=input_shape)\n",
    "model = tf.keras.models.Model(inputs=[x], outputs=model.call(x))\n",
    "model.summary()"
   ]
  },
  {
   "cell_type": "code",
   "execution_count": 30,
   "id": "880a1ff3-f3b8-40d6-9acb-ae5a230d5fa7",
   "metadata": {},
   "outputs": [],
   "source": [
    "loss_fn = tf.keras.losses.MeanSquaredError()\n",
    "\n",
    "lr = 0.015\n",
    "lr_scheduler = tf.keras.optimizers.schedules.ExponentialDecay(initial_learning_rate=lr, \n",
    "                                                              decay_steps=2000,\n",
    "                                                              decay_rate=0.95,\n",
    "                                                              staircase=True)\n",
    "optimizer = tf.keras.optimizers.Adam(learning_rate=lr_scheduler)\n",
    "\n",
    "checkpoint_path = 'checkpoints/ifeNet_sarcos.h5'\n",
    "patience = 100\n",
    "callbacks = [tf.keras.callbacks.EarlyStopping(patience=patience, monitor='val_loss'),\n",
    "             tf.keras.callbacks.ModelCheckpoint(filepath=checkpoint_path, save_weights_only=True, monitor='val_loss')]\n",
    "\n",
    "epochs = 10\n",
    "model.compile(optimizer=optimizer, loss=loss_fn, metrics=['mse'])"
   ]
  },
  {
   "cell_type": "code",
   "execution_count": null,
   "id": "d115a606-fe04-4b8a-8f68-a1037f1a69d7",
   "metadata": {},
   "outputs": [],
   "source": [
    "saved_model_path = 'saved_model/ifeNet_sarcos.h5'\n",
    "model.fit(train_ds, validation_data=vald_ds, epochs=epochs, callbacks=callbacks, verbose=2)\n",
    "model.load_weights(checkpoint_path)\n",
    "model.save_weights(saved_model_path)"
   ]
  },
  {
   "cell_type": "code",
   "execution_count": 9,
   "id": "1a4f9710-8730-468f-9ad3-3ec88bccc787",
   "metadata": {},
   "outputs": [
    {
     "name": "stdout",
     "output_type": "stream",
     "text": [
      "n_response: 7\n",
      "n_features: 21\n"
     ]
    }
   ],
   "source": [
    "from ife import IFENetRegressor\n",
    "\n",
    "n_features = X_train.shape[1]\n",
    "_, counts = np.unique(y_train, return_counts=True)\n",
    "n_response = len(targets)\n",
    "ife_num_layers = 1\n",
    "clf_num_layers = 1\n",
    "clf_hidden_units = [128]\n",
    "reduction_layer = 'flatten'\n",
    "num_att = 128\n",
    "r = 4.0\n",
    "\n",
    "print(f'n_response: {n_response}')\n",
    "print(f'n_features: {n_features}')\n",
    "\n",
    "ife_params = {'n_features': n_features,\n",
    "              'n_outputs': n_response,\n",
    "              'num_att': num_att,\n",
    "              'r': r,\n",
    "              'ife_num_layers': ife_num_layers, \n",
    "              'clf_num_layers': clf_num_layers,\n",
    "              'clf_hidden_units': clf_hidden_units,\n",
    "              'reduction_layer': reduction_layer\n",
    "             }\n",
    "model = IFENetRegressor(**ife_params)\n",
    "model.build(input_shape=(None,n_features))\n",
    "\n",
    "path_saved_model = 'saved_model/ifeNet_sarcos_att_128.h5'\n",
    "model.load_weights(path_saved_model)"
   ]
  },
  {
   "cell_type": "code",
   "execution_count": 10,
   "id": "c9b2b282-7d61-40ac-970a-daa7622fff05",
   "metadata": {},
   "outputs": [],
   "source": [
    "y_pred = np.empty((0,n_response))\n",
    "y_test = np.empty((0,n_response))\n",
    "\n",
    "for data,label in test_ds:\n",
    "    y_hat = model(data)\n",
    "    y_pred = np.append(y_pred, y_hat, axis=0)\n",
    "    #print(y_hat.shape)\n",
    "    \n",
    "    label = label.numpy()\n",
    "    y_test = np.append(y_test, label, axis=0)\n",
    "    #print(label.shape)\n"
   ]
  },
  {
   "cell_type": "code",
   "execution_count": 12,
   "id": "50cf3817-245d-4c86-8f77-48a4c181c08a",
   "metadata": {},
   "outputs": [
    {
     "name": "stdout",
     "output_type": "stream",
     "text": [
      "R2 Score: 0.9906084330078384\n",
      "MSE: 0.3850258116224076\n",
      "MAE: 0.3828897627707713\n"
     ]
    }
   ],
   "source": [
    "print(f'R2 Score: {r2_score(y_test, y_pred)}')\n",
    "print(f'MSE: {mean_squared_error(y_test, y_pred)}')\n",
    "print(f'MAE: {mean_absolute_error(y_test, y_pred)}')"
   ]
  },
  {
   "cell_type": "code",
   "execution_count": 14,
   "id": "0fd8ff50-e8d9-4eda-81c9-b9604065355a",
   "metadata": {},
   "outputs": [
    {
     "data": {
      "text/html": [
       "<div>\n",
       "<style scoped>\n",
       "    .dataframe tbody tr th:only-of-type {\n",
       "        vertical-align: middle;\n",
       "    }\n",
       "\n",
       "    .dataframe tbody tr th {\n",
       "        vertical-align: top;\n",
       "    }\n",
       "\n",
       "    .dataframe thead th {\n",
       "        text-align: right;\n",
       "    }\n",
       "</style>\n",
       "<table border=\"1\" class=\"dataframe\">\n",
       "  <thead>\n",
       "    <tr style=\"text-align: right;\">\n",
       "      <th></th>\n",
       "      <th>Feature</th>\n",
       "      <th>Score</th>\n",
       "    </tr>\n",
       "  </thead>\n",
       "  <tbody>\n",
       "    <tr>\n",
       "      <th>14</th>\n",
       "      <td>14</td>\n",
       "      <td>0.192080</td>\n",
       "    </tr>\n",
       "    <tr>\n",
       "      <th>0</th>\n",
       "      <td>0</td>\n",
       "      <td>0.096904</td>\n",
       "    </tr>\n",
       "    <tr>\n",
       "      <th>17</th>\n",
       "      <td>17</td>\n",
       "      <td>0.077443</td>\n",
       "    </tr>\n",
       "    <tr>\n",
       "      <th>1</th>\n",
       "      <td>1</td>\n",
       "      <td>0.071178</td>\n",
       "    </tr>\n",
       "    <tr>\n",
       "      <th>2</th>\n",
       "      <td>2</td>\n",
       "      <td>0.063495</td>\n",
       "    </tr>\n",
       "    <tr>\n",
       "      <th>15</th>\n",
       "      <td>15</td>\n",
       "      <td>0.063181</td>\n",
       "    </tr>\n",
       "    <tr>\n",
       "      <th>7</th>\n",
       "      <td>7</td>\n",
       "      <td>0.049514</td>\n",
       "    </tr>\n",
       "    <tr>\n",
       "      <th>16</th>\n",
       "      <td>16</td>\n",
       "      <td>0.048306</td>\n",
       "    </tr>\n",
       "    <tr>\n",
       "      <th>3</th>\n",
       "      <td>3</td>\n",
       "      <td>0.038565</td>\n",
       "    </tr>\n",
       "    <tr>\n",
       "      <th>12</th>\n",
       "      <td>12</td>\n",
       "      <td>0.032125</td>\n",
       "    </tr>\n",
       "    <tr>\n",
       "      <th>4</th>\n",
       "      <td>4</td>\n",
       "      <td>0.030934</td>\n",
       "    </tr>\n",
       "    <tr>\n",
       "      <th>19</th>\n",
       "      <td>19</td>\n",
       "      <td>0.028400</td>\n",
       "    </tr>\n",
       "    <tr>\n",
       "      <th>9</th>\n",
       "      <td>9</td>\n",
       "      <td>0.028309</td>\n",
       "    </tr>\n",
       "    <tr>\n",
       "      <th>13</th>\n",
       "      <td>13</td>\n",
       "      <td>0.026951</td>\n",
       "    </tr>\n",
       "    <tr>\n",
       "      <th>10</th>\n",
       "      <td>10</td>\n",
       "      <td>0.026544</td>\n",
       "    </tr>\n",
       "    <tr>\n",
       "      <th>11</th>\n",
       "      <td>11</td>\n",
       "      <td>0.026267</td>\n",
       "    </tr>\n",
       "    <tr>\n",
       "      <th>8</th>\n",
       "      <td>8</td>\n",
       "      <td>0.023664</td>\n",
       "    </tr>\n",
       "    <tr>\n",
       "      <th>18</th>\n",
       "      <td>18</td>\n",
       "      <td>0.023350</td>\n",
       "    </tr>\n",
       "    <tr>\n",
       "      <th>5</th>\n",
       "      <td>5</td>\n",
       "      <td>0.022786</td>\n",
       "    </tr>\n",
       "    <tr>\n",
       "      <th>20</th>\n",
       "      <td>20</td>\n",
       "      <td>0.015400</td>\n",
       "    </tr>\n",
       "    <tr>\n",
       "      <th>6</th>\n",
       "      <td>6</td>\n",
       "      <td>0.014600</td>\n",
       "    </tr>\n",
       "  </tbody>\n",
       "</table>\n",
       "</div>"
      ],
      "text/plain": [
       "    Feature     Score\n",
       "14       14  0.192080\n",
       "0         0  0.096904\n",
       "17       17  0.077443\n",
       "1         1  0.071178\n",
       "2         2  0.063495\n",
       "15       15  0.063181\n",
       "7         7  0.049514\n",
       "16       16  0.048306\n",
       "3         3  0.038565\n",
       "12       12  0.032125\n",
       "4         4  0.030934\n",
       "19       19  0.028400\n",
       "9         9  0.028309\n",
       "13       13  0.026951\n",
       "10       10  0.026544\n",
       "11       11  0.026267\n",
       "8         8  0.023664\n",
       "18       18  0.023350\n",
       "5         5  0.022786\n",
       "20       20  0.015400\n",
       "6         6  0.014600"
      ]
     },
     "execution_count": 14,
     "metadata": {},
     "output_type": "execute_result"
    }
   ],
   "source": [
    "feat_scores = model.input_scores\n",
    "feat_scores = np.mean(feat_scores, axis=(0,1))\n",
    "\n",
    "feat_rank = {}\n",
    "for col,score in zip(features,feat_scores):\n",
    "    #print(f'{col}: {score}')\n",
    "    feat_rank[col] = score\n",
    "\n",
    "df_feat_rank = pd.DataFrame(list(feat_rank.items()), columns=['Feature', 'Score'])\n",
    "df_feat_rank.sort_values(by='Score', ascending=False)"
   ]
  },
  {
   "cell_type": "code",
   "execution_count": null,
   "id": "64ed353d-626b-4f72-8066-1dc6ae13f538",
   "metadata": {},
   "outputs": [],
   "source": []
  }
 ],
 "metadata": {
  "kernelspec": {
   "display_name": "Python 3 (ipykernel)",
   "language": "python",
   "name": "python3"
  },
  "language_info": {
   "codemirror_mode": {
    "name": "ipython",
    "version": 3
   },
   "file_extension": ".py",
   "mimetype": "text/x-python",
   "name": "python",
   "nbconvert_exporter": "python",
   "pygments_lexer": "ipython3",
   "version": "3.9.20"
  }
 },
 "nbformat": 4,
 "nbformat_minor": 5
}
