{
 "cells": [
  {
   "cell_type": "code",
   "execution_count": null,
   "id": "07da75f6-97bc-4810-b1a9-f2c74099420b",
   "metadata": {},
   "outputs": [],
   "source": [
    "import tensorflow as tf\n",
    "import matplotlib.pylab as plt\n",
    "import numpy as np\n",
    "import pandas as pd\n",
    "from matplotlib import pyplot as plt\n",
    "from sklearn.metrics import confusion_matrix, classification_report, accuracy_score"
   ]
  },
  {
   "cell_type": "code",
   "execution_count": null,
   "id": "df671951-d2e0-49a3-8129-0d1f8674e379",
   "metadata": {},
   "outputs": [],
   "source": [
    "filepath = 'telco_customer_churn.csv'\n",
    "df = pd.read_csv(filepath)\n",
    "df = df.drop(columns=['customerID'])\n",
    "df.sample(5)"
   ]
  },
  {
   "cell_type": "code",
   "execution_count": null,
   "id": "789e5f89-9289-47a3-af0e-d28c6bc8129c",
   "metadata": {},
   "outputs": [],
   "source": [
    "df.dtypes"
   ]
  },
  {
   "cell_type": "code",
   "execution_count": null,
   "id": "c8ec3392-3594-466b-96d5-6855a54e8fc3",
   "metadata": {},
   "outputs": [],
   "source": [
    "features_cat = ['gender', 'SeniorCitizen', 'Partner', 'Dependents', 'PhoneService', 'MultipleLines', 'InternetService', 'OnlineSecurity',\n",
    "               'OnlineBackup', 'DeviceProtection', 'TechSupport', 'StreamingTV', 'StreamingMovies', 'Contract', 'PaperlessBilling', 'PaymentMethod']\n",
    "features_num = ['tenure', 'MonthlyCharges', 'TotalCharges']"
   ]
  },
  {
   "cell_type": "code",
   "execution_count": null,
   "id": "d1985b45-eb37-4607-a8db-d152a8f06b8e",
   "metadata": {},
   "outputs": [],
   "source": [
    "for col in features_cat:\n",
    "    df[col] = df[col].astype('category')\n",
    "\n",
    "for col in features_num:\n",
    "    try:\n",
    "        df[col] = df[col].astype('float')\n",
    "    except:\n",
    "        df[col] = pd.to_numeric(df[col], errors='coerce')\n",
    "\n",
    "df.dtypes"
   ]
  },
  {
   "cell_type": "code",
   "execution_count": null,
   "id": "8901d60b-67c3-42c9-aefa-f9ec90c9c6e4",
   "metadata": {},
   "outputs": [],
   "source": [
    "# Check for missing values\n",
    "for c in df.columns:\n",
    "    print(f'{c}: {df[c].isna().sum()}')"
   ]
  },
  {
   "cell_type": "code",
   "execution_count": null,
   "id": "b1330417-c40b-4f90-914d-ef3c4d734e14",
   "metadata": {},
   "outputs": [],
   "source": [
    "df = df.dropna()"
   ]
  },
  {
   "cell_type": "code",
   "execution_count": null,
   "id": "2361adf8-3ea3-49dc-9589-931149c81073",
   "metadata": {},
   "outputs": [],
   "source": [
    "np.unique(df['Churn'], return_counts=True)"
   ]
  },
  {
   "cell_type": "code",
   "execution_count": null,
   "id": "94d5f5d1-9b2c-4739-8d24-5201ba19c7de",
   "metadata": {},
   "outputs": [],
   "source": [
    "from FeatureEncoder import FeatureEncoder\n",
    "from sklearn.preprocessing import LabelEncoder\n",
    "\n",
    "y = df['Churn'].values\n",
    "X = df.drop(columns=['Churn'])\n",
    "\n",
    "args = {'dataframe': X, 'features_cat': features_cat, 'features_num': features_num}\n",
    "\n",
    "feat_enc = FeatureEncoder(**args)\n",
    "feat_enc.encode()\n",
    "X = feat_enc.get_encoded_features()\n",
    "\n",
    "labelEnc = LabelEncoder()\n",
    "y = labelEnc.fit_transform(y)"
   ]
  },
  {
   "cell_type": "code",
   "execution_count": null,
   "id": "830eb075-3cb3-4577-a593-4e889faa93ea",
   "metadata": {},
   "outputs": [],
   "source": [
    "from sklearn.model_selection import train_test_split\n",
    "\n",
    "X_train, X_tmp, y_train, y_tmp = train_test_split(X, y, train_size=0.7, random_state=0)\n",
    "X_vald, X_test, y_vald, y_test = train_test_split(X_tmp, y_tmp, train_size=0.5, random_state=0)\n",
    "\n",
    "print(X_train.shape)\n",
    "print(X_vald.shape)\n",
    "print(X_test.shape)\n",
    "\n",
    "print(np.unique(y_train, return_counts=True))\n",
    "print(np.unique(y_vald, return_counts=True))\n",
    "print(np.unique(y_test, return_counts=True))"
   ]
  },
  {
   "cell_type": "code",
   "execution_count": null,
   "id": "3bd45924-5c9b-46f1-84c4-c0402bba8b18",
   "metadata": {},
   "outputs": [],
   "source": [
    "def array_to_dataset(data, target, shuffle=True, batch_size=64):\n",
    "    ds = tf.data.Dataset.from_tensor_slices((data, target))\n",
    "    if shuffle:\n",
    "        ds = ds.shuffle(batch_size*2).batch(batch_size).prefetch(batch_size)\n",
    "    else:\n",
    "        ds = ds.batch(batch_size)\n",
    "    return ds\n",
    "\n",
    "train_ds = array_to_dataset(X_train, y_train)\n",
    "vald_ds = array_to_dataset(X_vald, y_vald, shuffle=False)\n",
    "test_ds = array_to_dataset(X_test, y_test, shuffle=False)"
   ]
  },
  {
   "cell_type": "code",
   "execution_count": null,
   "id": "594896ed-262b-46ba-805a-33219aace8d5",
   "metadata": {},
   "outputs": [],
   "source": [
    "import IterativeFeatureExclusion as IFE\n",
    "\n",
    "n_features = X_train.shape[1]\n",
    "_, counts = np.unique(y_train, return_counts=True)\n",
    "n_classes = len(counts)\n",
    "hidden_size = 32\n",
    "r = 5.6498\n",
    "\n",
    "print(f'Number of classes: {n_classes}')\n",
    "model = IFE.IFENetClassifier(n_features=n_features, n_classes=n_classes, hidden_size=hidden_size, r=r)\n",
    "\n",
    "loss_fn = tf.keras.losses.BinaryCrossentropy()\n",
    "optimizer = tf.keras.optimizers.Adam(learning_rate=0.001)\n",
    "\n",
    "checkpoint_path = 'checkpoints/ifeNet_telco.weights.h5'\n",
    "\n",
    "callbacks = [tf.keras.callbacks.EarlyStopping(patience=10, monitor='val_loss'),\n",
    "             tf.keras.callbacks.ModelCheckpoint(filepath=checkpoint_path, save_weights_only=True, monitor='val_accuracy')]\n",
    "\n",
    "epochs = 50\n",
    "batch_size = 64\n",
    "model.compile(optimizer=optimizer, loss=loss_fn, metrics=['accuracy'])"
   ]
  },
  {
   "cell_type": "code",
   "execution_count": null,
   "id": "636f7ee6-dd62-48d3-b706-aa32e8ec7cd0",
   "metadata": {},
   "outputs": [],
   "source": [
    "history = model.fit(train_ds, validation_data=vald_ds, epochs=epochs, callbacks=callbacks)"
   ]
  },
  {
   "cell_type": "code",
   "execution_count": null,
   "id": "3d1d7cfe-5467-4553-9b95-c941c157e6d0",
   "metadata": {},
   "outputs": [],
   "source": [
    "model.load_weights(checkpoint_path)"
   ]
  },
  {
   "cell_type": "code",
   "execution_count": null,
   "id": "6f83aef4-a734-4c6f-b983-4cd09fee0b8f",
   "metadata": {},
   "outputs": [],
   "source": [
    "y_pred = np.empty((0,))\n",
    "y_test = np.empty((0,))\n",
    "\n",
    "for data,label in test_ds:\n",
    "    y_hat = model(data)\n",
    "    y_hat = np.round(y_hat)\n",
    "    y_pred = np.append(y_pred, y_hat.ravel())\n",
    "\n",
    "    label = label.numpy()\n",
    "    y_test = np.append(y_test, label.ravel())"
   ]
  },
  {
   "cell_type": "code",
   "execution_count": null,
   "id": "e437a5f0-5b16-422a-8fb3-47dc8c4749c6",
   "metadata": {},
   "outputs": [],
   "source": [
    "print(accuracy_score(y_test, y_pred))\n",
    "print(confusion_matrix(y_test, y_pred))\n",
    "print(classification_report(y_test, y_pred))"
   ]
  },
  {
   "cell_type": "code",
   "execution_count": null,
   "id": "357dc5e8-e3fe-4b6d-83da-12ba9283dcc3",
   "metadata": {},
   "outputs": [],
   "source": [
    "feat_scores = feat_enc.get_feature_scores(input_scores = model.input_scores)"
   ]
  },
  {
   "cell_type": "code",
   "execution_count": null,
   "id": "e1bb2a1a-df9e-4c35-aa58-aad32f81a272",
   "metadata": {},
   "outputs": [],
   "source": []
  }
 ],
 "metadata": {
  "kernelspec": {
   "display_name": "Python 3 (ipykernel)",
   "language": "python",
   "name": "python3"
  },
  "language_info": {
   "codemirror_mode": {
    "name": "ipython",
    "version": 3
   },
   "file_extension": ".py",
   "mimetype": "text/x-python",
   "name": "python",
   "nbconvert_exporter": "python",
   "pygments_lexer": "ipython3",
   "version": "3.9.19"
  }
 },
 "nbformat": 4,
 "nbformat_minor": 5
}
