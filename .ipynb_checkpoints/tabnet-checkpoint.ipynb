{
 "cells": [
  {
   "cell_type": "code",
   "execution_count": 1,
   "id": "1b56d625",
   "metadata": {},
   "outputs": [],
   "source": [
    "import sys \n",
    "sys.path.append(\"../tf_tabnet/\")\n",
    "\n",
    "import pandas as pd\n",
    "import numpy as np\n",
    "import tensorflow as tf\n",
    "import tabnet_model"
   ]
  },
  {
   "cell_type": "code",
   "execution_count": 2,
   "id": "0e339f52",
   "metadata": {},
   "outputs": [],
   "source": [
    "path_train = '../datasets/adult/adult.data'\n",
    "path_test = '../datasets/adult/adult.test'\n",
    "columns = ['age', 'workclass', 'fnlwgt', 'education', \n",
    "           'education-num', 'marital-status', 'occupation', 'relationship', \n",
    "           'race', 'sex', 'capital-gain', 'capital-loss', \n",
    "           'hours-per-week', 'native-country', 'income']\n",
    "train_data = pd.read_csv(path_train, header=None, names=columns, skipinitialspace=True)\n",
    "test_data = pd.read_csv(path_test, header=None, names=columns, skipinitialspace=True, skiprows=1)"
   ]
  },
  {
   "cell_type": "code",
   "execution_count": 3,
   "id": "4471247b",
   "metadata": {},
   "outputs": [
    {
     "data": {
      "text/html": [
       "<div>\n",
       "<style scoped>\n",
       "    .dataframe tbody tr th:only-of-type {\n",
       "        vertical-align: middle;\n",
       "    }\n",
       "\n",
       "    .dataframe tbody tr th {\n",
       "        vertical-align: top;\n",
       "    }\n",
       "\n",
       "    .dataframe thead th {\n",
       "        text-align: right;\n",
       "    }\n",
       "</style>\n",
       "<table border=\"1\" class=\"dataframe\">\n",
       "  <thead>\n",
       "    <tr style=\"text-align: right;\">\n",
       "      <th></th>\n",
       "      <th>age</th>\n",
       "      <th>workclass</th>\n",
       "      <th>fnlwgt</th>\n",
       "      <th>education</th>\n",
       "      <th>education-num</th>\n",
       "      <th>marital-status</th>\n",
       "      <th>occupation</th>\n",
       "      <th>relationship</th>\n",
       "      <th>race</th>\n",
       "      <th>sex</th>\n",
       "      <th>capital-gain</th>\n",
       "      <th>capital-loss</th>\n",
       "      <th>hours-per-week</th>\n",
       "      <th>native-country</th>\n",
       "      <th>income</th>\n",
       "    </tr>\n",
       "  </thead>\n",
       "  <tbody>\n",
       "    <tr>\n",
       "      <th>26725</th>\n",
       "      <td>56</td>\n",
       "      <td>Self-emp-not-inc</td>\n",
       "      <td>48102</td>\n",
       "      <td>Some-college</td>\n",
       "      <td>10</td>\n",
       "      <td>Married-civ-spouse</td>\n",
       "      <td>Exec-managerial</td>\n",
       "      <td>Wife</td>\n",
       "      <td>White</td>\n",
       "      <td>Female</td>\n",
       "      <td>0</td>\n",
       "      <td>1977</td>\n",
       "      <td>50</td>\n",
       "      <td>United-States</td>\n",
       "      <td>&gt;50K</td>\n",
       "    </tr>\n",
       "    <tr>\n",
       "      <th>28693</th>\n",
       "      <td>32</td>\n",
       "      <td>Private</td>\n",
       "      <td>137367</td>\n",
       "      <td>11th</td>\n",
       "      <td>7</td>\n",
       "      <td>Never-married</td>\n",
       "      <td>Craft-repair</td>\n",
       "      <td>Not-in-family</td>\n",
       "      <td>Asian-Pac-Islander</td>\n",
       "      <td>Male</td>\n",
       "      <td>0</td>\n",
       "      <td>0</td>\n",
       "      <td>40</td>\n",
       "      <td>India</td>\n",
       "      <td>&lt;=50K</td>\n",
       "    </tr>\n",
       "    <tr>\n",
       "      <th>17863</th>\n",
       "      <td>20</td>\n",
       "      <td>Private</td>\n",
       "      <td>283969</td>\n",
       "      <td>Some-college</td>\n",
       "      <td>10</td>\n",
       "      <td>Never-married</td>\n",
       "      <td>Handlers-cleaners</td>\n",
       "      <td>Other-relative</td>\n",
       "      <td>White</td>\n",
       "      <td>Male</td>\n",
       "      <td>0</td>\n",
       "      <td>0</td>\n",
       "      <td>15</td>\n",
       "      <td>United-States</td>\n",
       "      <td>&lt;=50K</td>\n",
       "    </tr>\n",
       "    <tr>\n",
       "      <th>1662</th>\n",
       "      <td>43</td>\n",
       "      <td>Private</td>\n",
       "      <td>184378</td>\n",
       "      <td>Bachelors</td>\n",
       "      <td>13</td>\n",
       "      <td>Never-married</td>\n",
       "      <td>Prof-specialty</td>\n",
       "      <td>Not-in-family</td>\n",
       "      <td>White</td>\n",
       "      <td>Male</td>\n",
       "      <td>0</td>\n",
       "      <td>0</td>\n",
       "      <td>40</td>\n",
       "      <td>United-States</td>\n",
       "      <td>&lt;=50K</td>\n",
       "    </tr>\n",
       "    <tr>\n",
       "      <th>29516</th>\n",
       "      <td>22</td>\n",
       "      <td>Private</td>\n",
       "      <td>73266</td>\n",
       "      <td>Some-college</td>\n",
       "      <td>10</td>\n",
       "      <td>Never-married</td>\n",
       "      <td>Transport-moving</td>\n",
       "      <td>Own-child</td>\n",
       "      <td>Asian-Pac-Islander</td>\n",
       "      <td>Male</td>\n",
       "      <td>0</td>\n",
       "      <td>0</td>\n",
       "      <td>40</td>\n",
       "      <td>United-States</td>\n",
       "      <td>&lt;=50K</td>\n",
       "    </tr>\n",
       "  </tbody>\n",
       "</table>\n",
       "</div>"
      ],
      "text/plain": [
       "       age         workclass  fnlwgt     education  education-num  \\\n",
       "26725   56  Self-emp-not-inc   48102  Some-college             10   \n",
       "28693   32           Private  137367          11th              7   \n",
       "17863   20           Private  283969  Some-college             10   \n",
       "1662    43           Private  184378     Bachelors             13   \n",
       "29516   22           Private   73266  Some-college             10   \n",
       "\n",
       "           marital-status         occupation    relationship  \\\n",
       "26725  Married-civ-spouse    Exec-managerial            Wife   \n",
       "28693       Never-married       Craft-repair   Not-in-family   \n",
       "17863       Never-married  Handlers-cleaners  Other-relative   \n",
       "1662        Never-married     Prof-specialty   Not-in-family   \n",
       "29516       Never-married   Transport-moving       Own-child   \n",
       "\n",
       "                     race     sex  capital-gain  capital-loss  hours-per-week  \\\n",
       "26725               White  Female             0          1977              50   \n",
       "28693  Asian-Pac-Islander    Male             0             0              40   \n",
       "17863               White    Male             0             0              15   \n",
       "1662                White    Male             0             0              40   \n",
       "29516  Asian-Pac-Islander    Male             0             0              40   \n",
       "\n",
       "      native-country income  \n",
       "26725  United-States   >50K  \n",
       "28693          India  <=50K  \n",
       "17863  United-States  <=50K  \n",
       "1662   United-States  <=50K  \n",
       "29516  United-States  <=50K  "
      ]
     },
     "execution_count": 3,
     "metadata": {},
     "output_type": "execute_result"
    }
   ],
   "source": [
    "train_data.sample(5)"
   ]
  },
  {
   "cell_type": "code",
   "execution_count": 4,
   "id": "346a0238",
   "metadata": {},
   "outputs": [
    {
     "data": {
      "text/html": [
       "<div>\n",
       "<style scoped>\n",
       "    .dataframe tbody tr th:only-of-type {\n",
       "        vertical-align: middle;\n",
       "    }\n",
       "\n",
       "    .dataframe tbody tr th {\n",
       "        vertical-align: top;\n",
       "    }\n",
       "\n",
       "    .dataframe thead th {\n",
       "        text-align: right;\n",
       "    }\n",
       "</style>\n",
       "<table border=\"1\" class=\"dataframe\">\n",
       "  <thead>\n",
       "    <tr style=\"text-align: right;\">\n",
       "      <th></th>\n",
       "      <th>age</th>\n",
       "      <th>workclass</th>\n",
       "      <th>fnlwgt</th>\n",
       "      <th>education</th>\n",
       "      <th>education-num</th>\n",
       "      <th>marital-status</th>\n",
       "      <th>occupation</th>\n",
       "      <th>relationship</th>\n",
       "      <th>race</th>\n",
       "      <th>sex</th>\n",
       "      <th>capital-gain</th>\n",
       "      <th>capital-loss</th>\n",
       "      <th>hours-per-week</th>\n",
       "      <th>native-country</th>\n",
       "      <th>income</th>\n",
       "    </tr>\n",
       "  </thead>\n",
       "  <tbody>\n",
       "    <tr>\n",
       "      <th>631</th>\n",
       "      <td>52</td>\n",
       "      <td>Private</td>\n",
       "      <td>166419</td>\n",
       "      <td>Some-college</td>\n",
       "      <td>10</td>\n",
       "      <td>Divorced</td>\n",
       "      <td>Adm-clerical</td>\n",
       "      <td>Not-in-family</td>\n",
       "      <td>Black</td>\n",
       "      <td>Female</td>\n",
       "      <td>0</td>\n",
       "      <td>0</td>\n",
       "      <td>37</td>\n",
       "      <td>United-States</td>\n",
       "      <td>&lt;=50K.</td>\n",
       "    </tr>\n",
       "    <tr>\n",
       "      <th>8632</th>\n",
       "      <td>55</td>\n",
       "      <td>Local-gov</td>\n",
       "      <td>293104</td>\n",
       "      <td>Some-college</td>\n",
       "      <td>10</td>\n",
       "      <td>Married-civ-spouse</td>\n",
       "      <td>Prof-specialty</td>\n",
       "      <td>Husband</td>\n",
       "      <td>White</td>\n",
       "      <td>Male</td>\n",
       "      <td>0</td>\n",
       "      <td>0</td>\n",
       "      <td>40</td>\n",
       "      <td>United-States</td>\n",
       "      <td>&lt;=50K.</td>\n",
       "    </tr>\n",
       "    <tr>\n",
       "      <th>3246</th>\n",
       "      <td>36</td>\n",
       "      <td>Private</td>\n",
       "      <td>37522</td>\n",
       "      <td>Bachelors</td>\n",
       "      <td>13</td>\n",
       "      <td>Married-civ-spouse</td>\n",
       "      <td>Sales</td>\n",
       "      <td>Husband</td>\n",
       "      <td>White</td>\n",
       "      <td>Male</td>\n",
       "      <td>15024</td>\n",
       "      <td>0</td>\n",
       "      <td>50</td>\n",
       "      <td>United-States</td>\n",
       "      <td>&gt;50K.</td>\n",
       "    </tr>\n",
       "    <tr>\n",
       "      <th>6245</th>\n",
       "      <td>41</td>\n",
       "      <td>Private</td>\n",
       "      <td>156580</td>\n",
       "      <td>Bachelors</td>\n",
       "      <td>13</td>\n",
       "      <td>Never-married</td>\n",
       "      <td>Adm-clerical</td>\n",
       "      <td>Not-in-family</td>\n",
       "      <td>White</td>\n",
       "      <td>Female</td>\n",
       "      <td>0</td>\n",
       "      <td>0</td>\n",
       "      <td>35</td>\n",
       "      <td>Dominican-Republic</td>\n",
       "      <td>&lt;=50K.</td>\n",
       "    </tr>\n",
       "    <tr>\n",
       "      <th>11162</th>\n",
       "      <td>56</td>\n",
       "      <td>Private</td>\n",
       "      <td>337065</td>\n",
       "      <td>7th-8th</td>\n",
       "      <td>4</td>\n",
       "      <td>Divorced</td>\n",
       "      <td>Farming-fishing</td>\n",
       "      <td>Other-relative</td>\n",
       "      <td>White</td>\n",
       "      <td>Male</td>\n",
       "      <td>0</td>\n",
       "      <td>0</td>\n",
       "      <td>40</td>\n",
       "      <td>United-States</td>\n",
       "      <td>&lt;=50K.</td>\n",
       "    </tr>\n",
       "  </tbody>\n",
       "</table>\n",
       "</div>"
      ],
      "text/plain": [
       "       age  workclass  fnlwgt     education  education-num  \\\n",
       "631     52    Private  166419  Some-college             10   \n",
       "8632    55  Local-gov  293104  Some-college             10   \n",
       "3246    36    Private   37522     Bachelors             13   \n",
       "6245    41    Private  156580     Bachelors             13   \n",
       "11162   56    Private  337065       7th-8th              4   \n",
       "\n",
       "           marital-status       occupation    relationship   race     sex  \\\n",
       "631              Divorced     Adm-clerical   Not-in-family  Black  Female   \n",
       "8632   Married-civ-spouse   Prof-specialty         Husband  White    Male   \n",
       "3246   Married-civ-spouse            Sales         Husband  White    Male   \n",
       "6245        Never-married     Adm-clerical   Not-in-family  White  Female   \n",
       "11162            Divorced  Farming-fishing  Other-relative  White    Male   \n",
       "\n",
       "       capital-gain  capital-loss  hours-per-week      native-country  income  \n",
       "631               0             0              37       United-States  <=50K.  \n",
       "8632              0             0              40       United-States  <=50K.  \n",
       "3246          15024             0              50       United-States   >50K.  \n",
       "6245              0             0              35  Dominican-Republic  <=50K.  \n",
       "11162             0             0              40       United-States  <=50K.  "
      ]
     },
     "execution_count": 4,
     "metadata": {},
     "output_type": "execute_result"
    }
   ],
   "source": [
    "test_data.sample(5)"
   ]
  },
  {
   "cell_type": "code",
   "execution_count": 5,
   "id": "a91f55d9",
   "metadata": {},
   "outputs": [],
   "source": [
    "train_data = train_data.replace('?', np.nan)\n",
    "train_data = train_data.dropna(axis=0)"
   ]
  },
  {
   "cell_type": "code",
   "execution_count": 6,
   "id": "922f7b7c",
   "metadata": {},
   "outputs": [],
   "source": [
    "test_data = test_data.replace('?', np.nan)\n",
    "test_data = test_data.dropna(axis=0)"
   ]
  },
  {
   "cell_type": "code",
   "execution_count": 7,
   "id": "9d79e607",
   "metadata": {},
   "outputs": [
    {
     "data": {
      "text/plain": [
       "age                int64\n",
       "workclass         object\n",
       "fnlwgt             int64\n",
       "education         object\n",
       "education-num      int64\n",
       "marital-status    object\n",
       "occupation        object\n",
       "relationship      object\n",
       "race              object\n",
       "sex               object\n",
       "capital-gain       int64\n",
       "capital-loss       int64\n",
       "hours-per-week     int64\n",
       "native-country    object\n",
       "income            object\n",
       "dtype: object"
      ]
     },
     "execution_count": 7,
     "metadata": {},
     "output_type": "execute_result"
    }
   ],
   "source": [
    "train_data.dtypes"
   ]
  },
  {
   "cell_type": "code",
   "execution_count": 8,
   "id": "350f0419",
   "metadata": {},
   "outputs": [
    {
     "data": {
      "text/plain": [
       "age                int64\n",
       "workclass         object\n",
       "fnlwgt             int64\n",
       "education         object\n",
       "education-num      int64\n",
       "marital-status    object\n",
       "occupation        object\n",
       "relationship      object\n",
       "race              object\n",
       "sex               object\n",
       "capital-gain       int64\n",
       "capital-loss       int64\n",
       "hours-per-week     int64\n",
       "native-country    object\n",
       "income            object\n",
       "dtype: object"
      ]
     },
     "execution_count": 8,
     "metadata": {},
     "output_type": "execute_result"
    }
   ],
   "source": [
    "test_data.dtypes"
   ]
  },
  {
   "cell_type": "code",
   "execution_count": 9,
   "id": "c22e583b",
   "metadata": {},
   "outputs": [],
   "source": [
    "train_data['income'] = train_data['income'].astype('category').cat.codes\n",
    "test_data['income'] = test_data['income'].astype('category').cat.codes"
   ]
  },
  {
   "cell_type": "code",
   "execution_count": 10,
   "id": "708efefb",
   "metadata": {},
   "outputs": [],
   "source": [
    "vald_data = train_data.sample(frac=0.2, random_state=0)\n",
    "train_data = train_data.drop(index=vald_data.index)"
   ]
  },
  {
   "cell_type": "code",
   "execution_count": 11,
   "id": "05fa7ea7",
   "metadata": {},
   "outputs": [
    {
     "name": "stdout",
     "output_type": "stream",
     "text": [
      "(24130, 15)\n",
      "(6032, 15)\n",
      "(15060, 15)\n"
     ]
    }
   ],
   "source": [
    "print(train_data.shape)\n",
    "print(vald_data.shape)\n",
    "print(test_data.shape)"
   ]
  },
  {
   "cell_type": "code",
   "execution_count": 12,
   "id": "c0b50bf0",
   "metadata": {},
   "outputs": [],
   "source": [
    "def dataframe_to_dataset(df, target):\n",
    "    df_copy = df.copy()\n",
    "    labels = df_copy.pop(target)\n",
    "    ds = tf.data.Dataset.from_tensor_slices((dict(df_copy), labels))\n",
    "    return ds"
   ]
  },
  {
   "cell_type": "code",
   "execution_count": 13,
   "id": "e8fe196e",
   "metadata": {},
   "outputs": [],
   "source": [
    "train_ds = dataframe_to_dataset(train_data, 'income')\n",
    "vald_ds = dataframe_to_dataset(vald_data, 'income')\n",
    "test_ds = dataframe_to_dataset(test_data, 'income')"
   ]
  },
  {
   "cell_type": "code",
   "execution_count": 14,
   "id": "332abaa1",
   "metadata": {},
   "outputs": [],
   "source": [
    "batch_size = 1024\n",
    "\n",
    "train_ds = train_ds.shuffle(128, seed=10).batch(batch_size).prefetch(64)\n",
    "vald_ds = vald_ds.batch(batch_size)\n",
    "test_ds = test_ds.batch(batch_size)"
   ]
  },
  {
   "cell_type": "code",
   "execution_count": 15,
   "id": "aa5aef58",
   "metadata": {},
   "outputs": [],
   "source": [
    "def encode_numerical_feature(feature, name, dataset):\n",
    "    normalizer = tf.keras.layers.Normalization()\n",
    "    \n",
    "    feature_ds = dataset.map(lambda x, _: x[name]) # dataset returns a batch\n",
    "    feature_ds = feature_ds.map(lambda x: tf.expand_dims(x, -1))\n",
    "    \n",
    "    normalizer.adapt(feature_ds) # learn the x_min and x_max\n",
    "    encoded_feature = normalizer(feature)\n",
    "    return encoded_feature\n",
    "\n",
    "def encode_categorical_feature(feature, name, dataset, is_string=True):\n",
    "    lookup = tf.keras.layers.StringLookup if is_string else tf.keras.layers.IntegerLookup\n",
    "    \n",
    "    feature_ds = dataset.map(lambda x, _: x[name]) # dataset returns a batch\n",
    "    feature_ds = feature_ds.map(lambda x: tf.expand_dims(x, -1))\n",
    "    \n",
    "    lookup = lookup(output_mode=\"int\") # Return the vocabulary indices of the input tokens\n",
    "    \n",
    "    lookup.adapt(feature_ds)\n",
    "    \n",
    "    encoded_feature = lookup(feature)\n",
    "    embedded_feature = tf.keras.layers.Embedding(input_dim=lookup.vocabulary_size(), \n",
    "                                                 output_dim=1, \n",
    "                                                 name=f'{name}_embedding')(encoded_feature)\n",
    "    \n",
    "    return embedded_feature\n"
   ]
  },
  {
   "cell_type": "code",
   "execution_count": 16,
   "id": "29c9b52a",
   "metadata": {},
   "outputs": [],
   "source": [
    "list_cat_str_features = train_data.select_dtypes(include=[\"object\"]).columns\n",
    "list_cat_int_features = list()\n",
    "list_num_features = train_data.select_dtypes(include=[\"int64\"]).columns\n",
    "\n",
    "feature_names = columns.copy()\n",
    "feature_names.remove('income')"
   ]
  },
  {
   "cell_type": "code",
   "execution_count": 17,
   "id": "f682cc5b",
   "metadata": {},
   "outputs": [],
   "source": [
    "def create_input_layer(feature_names, list_cat_str_features, list_cat_int_features):\n",
    "    list_inputs = dict()\n",
    "    for name in feature_names:\n",
    "        if name in list_cat_str_features:\n",
    "            dtype = tf.string\n",
    "        elif name in list_cat_int_features:\n",
    "            dtype = tf.int64\n",
    "        else:\n",
    "            dtype = tf.float32\n",
    "    \n",
    "        shape = (1,) if dtype == tf.float32 else ()\n",
    "        layer = tf.keras.Input(shape=shape, name=name, dtype=dtype)\n",
    "        list_inputs[name] =  layer\n",
    "    \n",
    "    return list_inputs\n",
    "\n",
    "all_inputs = create_input_layer(feature_names, list_cat_str_features, list_cat_int_features)"
   ]
  },
  {
   "cell_type": "code",
   "execution_count": 18,
   "id": "cffcdde3",
   "metadata": {},
   "outputs": [
    {
     "data": {
      "text/plain": [
       "{'age': <KerasTensor: shape=(None, 1) dtype=float32 (created by layer 'age')>,\n",
       " 'workclass': <KerasTensor: shape=(None,) dtype=string (created by layer 'workclass')>,\n",
       " 'fnlwgt': <KerasTensor: shape=(None, 1) dtype=float32 (created by layer 'fnlwgt')>,\n",
       " 'education': <KerasTensor: shape=(None,) dtype=string (created by layer 'education')>,\n",
       " 'education-num': <KerasTensor: shape=(None, 1) dtype=float32 (created by layer 'education-num')>,\n",
       " 'marital-status': <KerasTensor: shape=(None,) dtype=string (created by layer 'marital-status')>,\n",
       " 'occupation': <KerasTensor: shape=(None,) dtype=string (created by layer 'occupation')>,\n",
       " 'relationship': <KerasTensor: shape=(None,) dtype=string (created by layer 'relationship')>,\n",
       " 'race': <KerasTensor: shape=(None,) dtype=string (created by layer 'race')>,\n",
       " 'sex': <KerasTensor: shape=(None,) dtype=string (created by layer 'sex')>,\n",
       " 'capital-gain': <KerasTensor: shape=(None, 1) dtype=float32 (created by layer 'capital-gain')>,\n",
       " 'capital-loss': <KerasTensor: shape=(None, 1) dtype=float32 (created by layer 'capital-loss')>,\n",
       " 'hours-per-week': <KerasTensor: shape=(None, 1) dtype=float32 (created by layer 'hours-per-week')>,\n",
       " 'native-country': <KerasTensor: shape=(None,) dtype=string (created by layer 'native-country')>}"
      ]
     },
     "execution_count": 18,
     "metadata": {},
     "output_type": "execute_result"
    }
   ],
   "source": [
    "all_inputs"
   ]
  },
  {
   "cell_type": "code",
   "execution_count": 19,
   "id": "f179ae3c",
   "metadata": {},
   "outputs": [],
   "source": [
    "age = encode_numerical_feature(all_inputs['age'], 'age', train_ds)\n",
    "fnlwgt = encode_numerical_feature(all_inputs['fnlwgt'], 'fnlwgt', train_ds)\n",
    "education_num = encode_numerical_feature(all_inputs['education-num'], 'education-num', train_ds)\n",
    "capital_gain = encode_numerical_feature(all_inputs['capital-gain'], 'capital-gain', train_ds)\n",
    "capital_loss = encode_numerical_feature(all_inputs['capital-loss'], 'capital-loss', train_ds)\n",
    "hours_per_week = encode_numerical_feature(all_inputs['hours-per-week'], 'hours-per-week', train_ds)\n",
    "\n",
    "workclass = encode_categorical_feature(all_inputs['workclass'], 'workclass', train_ds)\n",
    "education = encode_categorical_feature(all_inputs['education'], 'education', train_ds)\n",
    "marital_status = encode_categorical_feature(all_inputs['marital-status'], 'marital-status', train_ds)\n",
    "occupation = encode_categorical_feature(all_inputs['occupation'], 'occupation', train_ds)\n",
    "relationship = encode_categorical_feature(all_inputs['relationship'], 'relationship', train_ds)\n",
    "race = encode_categorical_feature(all_inputs['race'], 'race', train_ds)\n",
    "sex = encode_categorical_feature(all_inputs['sex'], 'sex', train_ds)\n",
    "native_country = encode_categorical_feature(all_inputs['native-country'], 'native-country', train_ds)"
   ]
  },
  {
   "cell_type": "code",
   "execution_count": 20,
   "id": "5efaf101",
   "metadata": {},
   "outputs": [],
   "source": [
    "tabnet_params = {\n",
    "        \"decision_dim\": 7, # this value should be d/2 (the number of features / 2)\n",
    "        \"attention_dim\": 7, # this value should be d/2 (the number of features / 2)\n",
    "        \"n_steps\": 5, \n",
    "        \"n_shared_glus\": 2, \n",
    "        \"n_dependent_glus\": 2, \n",
    "        \"relaxation_factor\": 1.25, \n",
    "        \"epsilon\": 1e-15, \n",
    "        \"virtual_batch_size\": None, \n",
    "        \"momentum\": 0.98, \n",
    "        \"mask_type\": \"entmax\", \n",
    "        \"lambda_sparse\": 1e-4, \n",
    "}"
   ]
  },
  {
   "cell_type": "code",
   "execution_count": 21,
   "id": "b6ca844c",
   "metadata": {},
   "outputs": [],
   "source": [
    "all_features = [age, workclass, fnlwgt, education, \n",
    "                education_num, marital_status, occupation, relationship, \n",
    "                race, sex, capital_gain, capital_loss, \n",
    "                hours_per_week, native_country]\n",
    "\n",
    "x = tf.keras.layers.Concatenate()(all_features)\n",
    "x = tabnet_model.TabNetEncoder(**tabnet_params)(x)\n",
    "output = tf.keras.layers.Dense(1)(x)\n",
    "\n",
    "model = tf.keras.Model(all_inputs, output)"
   ]
  },
  {
   "cell_type": "code",
   "execution_count": 22,
   "id": "f29e36e5",
   "metadata": {},
   "outputs": [],
   "source": [
    "model.compile(optimizer=tf.keras.optimizers.Adam(learning_rate=1e-3), \n",
    "              loss=tf.keras.losses.BinaryCrossentropy(from_logits=True), \n",
    "              metrics=[\"accuracy\"])"
   ]
  },
  {
   "cell_type": "code",
   "execution_count": 23,
   "id": "bcf0647c",
   "metadata": {
    "scrolled": false
   },
   "outputs": [
    {
     "name": "stdout",
     "output_type": "stream",
     "text": [
      "Epoch 1/200\n",
      "24/24 [==============================] - 18s 148ms/step - loss: 0.5807 - accuracy: 0.7523 - val_loss: 0.6535 - val_accuracy: 0.7512\n",
      "Epoch 2/200\n",
      "24/24 [==============================] - 1s 60ms/step - loss: 0.5045 - accuracy: 0.7560 - val_loss: 0.6175 - val_accuracy: 0.7512\n",
      "Epoch 3/200\n",
      "24/24 [==============================] - 1s 61ms/step - loss: 0.4647 - accuracy: 0.7600 - val_loss: 0.5900 - val_accuracy: 0.7512\n",
      "Epoch 4/200\n",
      "24/24 [==============================] - 2s 74ms/step - loss: 0.4427 - accuracy: 0.7668 - val_loss: 0.5717 - val_accuracy: 0.7512\n",
      "Epoch 5/200\n",
      "24/24 [==============================] - 1s 63ms/step - loss: 0.4229 - accuracy: 0.7748 - val_loss: 0.5481 - val_accuracy: 0.7512\n",
      "Epoch 6/200\n",
      "24/24 [==============================] - 2s 68ms/step - loss: 0.4075 - accuracy: 0.7854 - val_loss: 0.5227 - val_accuracy: 0.7533\n",
      "Epoch 7/200\n",
      "24/24 [==============================] - 2s 74ms/step - loss: 0.3927 - accuracy: 0.7954 - val_loss: 0.4945 - val_accuracy: 0.7636\n",
      "Epoch 8/200\n",
      "24/24 [==============================] - 2s 70ms/step - loss: 0.3776 - accuracy: 0.8099 - val_loss: 0.4679 - val_accuracy: 0.7770\n",
      "Epoch 9/200\n",
      "24/24 [==============================] - 2s 79ms/step - loss: 0.3663 - accuracy: 0.8161 - val_loss: 0.4410 - val_accuracy: 0.7911\n",
      "Epoch 10/200\n",
      "24/24 [==============================] - 2s 73ms/step - loss: 0.3581 - accuracy: 0.8202 - val_loss: 0.4156 - val_accuracy: 0.8002\n",
      "Epoch 11/200\n",
      "24/24 [==============================] - 2s 65ms/step - loss: 0.3539 - accuracy: 0.8249 - val_loss: 0.3931 - val_accuracy: 0.8064\n",
      "Epoch 12/200\n",
      "24/24 [==============================] - 2s 64ms/step - loss: 0.3503 - accuracy: 0.8259 - val_loss: 0.3744 - val_accuracy: 0.8140\n",
      "Epoch 13/200\n",
      "24/24 [==============================] - 2s 85ms/step - loss: 0.3453 - accuracy: 0.8299 - val_loss: 0.3623 - val_accuracy: 0.8205\n",
      "Epoch 14/200\n",
      "24/24 [==============================] - 2s 83ms/step - loss: 0.3433 - accuracy: 0.8320 - val_loss: 0.3548 - val_accuracy: 0.8261\n",
      "Epoch 15/200\n",
      "24/24 [==============================] - 2s 65ms/step - loss: 0.3418 - accuracy: 0.8317 - val_loss: 0.3523 - val_accuracy: 0.8279\n",
      "Epoch 16/200\n",
      "24/24 [==============================] - 2s 65ms/step - loss: 0.3393 - accuracy: 0.8337 - val_loss: 0.3473 - val_accuracy: 0.8312\n",
      "Epoch 17/200\n",
      "24/24 [==============================] - 2s 64ms/step - loss: 0.3378 - accuracy: 0.8349 - val_loss: 0.3465 - val_accuracy: 0.8326\n",
      "Epoch 18/200\n",
      "24/24 [==============================] - 2s 91ms/step - loss: 0.3361 - accuracy: 0.8362 - val_loss: 0.3458 - val_accuracy: 0.8336\n",
      "Epoch 19/200\n",
      "24/24 [==============================] - 2s 84ms/step - loss: 0.3341 - accuracy: 0.8366 - val_loss: 0.3441 - val_accuracy: 0.8349\n",
      "Epoch 20/200\n",
      "24/24 [==============================] - 2s 84ms/step - loss: 0.3333 - accuracy: 0.8383 - val_loss: 0.3454 - val_accuracy: 0.8322\n",
      "Epoch 21/200\n",
      "24/24 [==============================] - 2s 78ms/step - loss: 0.3306 - accuracy: 0.8388 - val_loss: 0.3443 - val_accuracy: 0.8329\n",
      "Epoch 22/200\n",
      "24/24 [==============================] - 2s 89ms/step - loss: 0.3304 - accuracy: 0.8395 - val_loss: 0.3427 - val_accuracy: 0.8307\n",
      "Epoch 23/200\n",
      "24/24 [==============================] - 2s 78ms/step - loss: 0.3290 - accuracy: 0.8409 - val_loss: 0.3429 - val_accuracy: 0.8317\n",
      "Epoch 24/200\n",
      "24/24 [==============================] - 2s 89ms/step - loss: 0.3266 - accuracy: 0.8411 - val_loss: 0.3421 - val_accuracy: 0.8327\n",
      "Epoch 25/200\n",
      "24/24 [==============================] - 2s 87ms/step - loss: 0.3254 - accuracy: 0.8407 - val_loss: 0.3417 - val_accuracy: 0.8332\n",
      "Epoch 26/200\n",
      "24/24 [==============================] - 2s 84ms/step - loss: 0.3254 - accuracy: 0.8409 - val_loss: 0.3426 - val_accuracy: 0.8304\n",
      "Epoch 27/200\n",
      "24/24 [==============================] - 2s 81ms/step - loss: 0.3269 - accuracy: 0.8409 - val_loss: 0.3421 - val_accuracy: 0.8304\n",
      "Epoch 28/200\n",
      "24/24 [==============================] - 2s 82ms/step - loss: 0.3277 - accuracy: 0.8403 - val_loss: 0.3389 - val_accuracy: 0.8354\n",
      "Epoch 29/200\n",
      "24/24 [==============================] - 2s 91ms/step - loss: 0.3255 - accuracy: 0.8398 - val_loss: 0.3384 - val_accuracy: 0.8337\n",
      "Epoch 30/200\n",
      "24/24 [==============================] - 2s 72ms/step - loss: 0.3235 - accuracy: 0.8414 - val_loss: 0.3377 - val_accuracy: 0.8337\n",
      "Epoch 31/200\n",
      "24/24 [==============================] - 2s 74ms/step - loss: 0.3222 - accuracy: 0.8406 - val_loss: 0.3369 - val_accuracy: 0.8349\n",
      "Epoch 32/200\n",
      "24/24 [==============================] - 2s 82ms/step - loss: 0.3212 - accuracy: 0.8414 - val_loss: 0.3373 - val_accuracy: 0.8349\n",
      "Epoch 33/200\n",
      "24/24 [==============================] - 2s 86ms/step - loss: 0.3191 - accuracy: 0.8433 - val_loss: 0.3373 - val_accuracy: 0.8347\n",
      "Epoch 34/200\n",
      "24/24 [==============================] - 1s 62ms/step - loss: 0.3224 - accuracy: 0.8424 - val_loss: 0.3390 - val_accuracy: 0.8355\n",
      "Epoch 35/200\n",
      "24/24 [==============================] - 2s 68ms/step - loss: 0.3265 - accuracy: 0.8412 - val_loss: 0.3384 - val_accuracy: 0.8347\n",
      "Epoch 36/200\n",
      "24/24 [==============================] - 2s 64ms/step - loss: 0.3234 - accuracy: 0.8419 - val_loss: 0.3362 - val_accuracy: 0.8365\n",
      "Epoch 37/200\n",
      "24/24 [==============================] - 2s 69ms/step - loss: 0.3207 - accuracy: 0.8427 - val_loss: 0.3373 - val_accuracy: 0.8352\n",
      "Epoch 38/200\n",
      "24/24 [==============================] - 2s 74ms/step - loss: 0.3185 - accuracy: 0.8443 - val_loss: 0.3376 - val_accuracy: 0.8355\n",
      "Epoch 39/200\n",
      "24/24 [==============================] - 2s 71ms/step - loss: 0.3167 - accuracy: 0.8449 - val_loss: 0.3371 - val_accuracy: 0.8347\n",
      "Epoch 40/200\n",
      "24/24 [==============================] - 2s 65ms/step - loss: 0.3166 - accuracy: 0.8443 - val_loss: 0.3368 - val_accuracy: 0.8350\n",
      "Epoch 41/200\n",
      "24/24 [==============================] - 2s 68ms/step - loss: 0.3152 - accuracy: 0.8443 - val_loss: 0.3371 - val_accuracy: 0.8349\n",
      "Epoch 42/200\n",
      "24/24 [==============================] - 2s 67ms/step - loss: 0.3142 - accuracy: 0.8452 - val_loss: 0.3369 - val_accuracy: 0.8342\n",
      "Epoch 43/200\n",
      "24/24 [==============================] - 2s 68ms/step - loss: 0.3149 - accuracy: 0.8441 - val_loss: 0.3356 - val_accuracy: 0.8342\n",
      "Epoch 44/200\n",
      "24/24 [==============================] - 2s 77ms/step - loss: 0.3147 - accuracy: 0.8455 - val_loss: 0.3347 - val_accuracy: 0.8334\n",
      "Epoch 45/200\n",
      "24/24 [==============================] - 2s 71ms/step - loss: 0.3141 - accuracy: 0.8454 - val_loss: 0.3344 - val_accuracy: 0.8326\n",
      "Epoch 46/200\n",
      "24/24 [==============================] - 2s 68ms/step - loss: 0.3130 - accuracy: 0.8456 - val_loss: 0.3366 - val_accuracy: 0.8354\n",
      "Epoch 47/200\n",
      "24/24 [==============================] - 2s 65ms/step - loss: 0.3129 - accuracy: 0.8458 - val_loss: 0.3377 - val_accuracy: 0.8359\n",
      "Epoch 48/200\n",
      "24/24 [==============================] - 2s 65ms/step - loss: 0.3118 - accuracy: 0.8471 - val_loss: 0.3340 - val_accuracy: 0.8372\n",
      "Epoch 49/200\n",
      "24/24 [==============================] - 2s 68ms/step - loss: 0.3092 - accuracy: 0.8477 - val_loss: 0.3367 - val_accuracy: 0.8362\n",
      "Epoch 50/200\n",
      "24/24 [==============================] - 1s 61ms/step - loss: 0.3098 - accuracy: 0.8473 - val_loss: 0.3348 - val_accuracy: 0.8360\n",
      "Epoch 51/200\n",
      "24/24 [==============================] - 2s 65ms/step - loss: 0.3093 - accuracy: 0.8483 - val_loss: 0.3341 - val_accuracy: 0.8355\n",
      "Epoch 52/200\n",
      "24/24 [==============================] - 2s 67ms/step - loss: 0.3107 - accuracy: 0.8486 - val_loss: 0.3318 - val_accuracy: 0.8374\n",
      "Epoch 53/200\n",
      "24/24 [==============================] - 2s 65ms/step - loss: 0.3087 - accuracy: 0.8481 - val_loss: 0.3326 - val_accuracy: 0.8385\n",
      "Epoch 54/200\n",
      "24/24 [==============================] - 2s 66ms/step - loss: 0.3097 - accuracy: 0.8479 - val_loss: 0.3363 - val_accuracy: 0.8326\n",
      "Epoch 55/200\n",
      "24/24 [==============================] - 1s 62ms/step - loss: 0.3089 - accuracy: 0.8480 - val_loss: 0.3369 - val_accuracy: 0.8374\n",
      "Epoch 56/200\n",
      "24/24 [==============================] - 2s 63ms/step - loss: 0.3097 - accuracy: 0.8477 - val_loss: 0.3352 - val_accuracy: 0.8367\n",
      "Epoch 57/200\n",
      "24/24 [==============================] - 2s 63ms/step - loss: 0.3100 - accuracy: 0.8475 - val_loss: 0.3333 - val_accuracy: 0.8374\n",
      "Epoch 58/200\n",
      "24/24 [==============================] - 1s 61ms/step - loss: 0.3126 - accuracy: 0.8459 - val_loss: 0.3344 - val_accuracy: 0.8374\n",
      "Epoch 59/200\n",
      "24/24 [==============================] - 2s 81ms/step - loss: 0.3084 - accuracy: 0.8472 - val_loss: 0.3356 - val_accuracy: 0.8370\n",
      "Epoch 60/200\n",
      "24/24 [==============================] - 2s 84ms/step - loss: 0.3103 - accuracy: 0.8489 - val_loss: 0.3366 - val_accuracy: 0.8342\n",
      "Epoch 61/200\n",
      "24/24 [==============================] - 2s 66ms/step - loss: 0.3118 - accuracy: 0.8475 - val_loss: 0.3430 - val_accuracy: 0.8317\n",
      "Epoch 62/200\n",
      "24/24 [==============================] - 2s 66ms/step - loss: 0.3246 - accuracy: 0.8436 - val_loss: 0.3482 - val_accuracy: 0.8369\n"
     ]
    }
   ],
   "source": [
    "callbacks=[tf.keras.callbacks.EarlyStopping(monitor='val_loss', \n",
    "                                            patience=10, \n",
    "                                            restore_best_weights=True),\n",
    "           tf.keras.callbacks.ModelCheckpoint(filepath='checkpoints/', \n",
    "                                              monitor='val_loss', \n",
    "                                              save_weights_only=True)]\n",
    "\n",
    "history = model.fit(train_ds, validation_data=vald_ds, epochs=200, callbacks=callbacks)"
   ]
  },
  {
   "cell_type": "code",
   "execution_count": 24,
   "id": "5679ff4a",
   "metadata": {},
   "outputs": [
    {
     "data": {
      "text/plain": [
       "[<matplotlib.lines.Line2D at 0x2867e5fa7c0>]"
      ]
     },
     "execution_count": 24,
     "metadata": {},
     "output_type": "execute_result"
    },
    {
     "data": {
      "image/png": "[encoded data removed]",
      "text/plain": [
       "<Figure size 800x800 with 1 Axes>"
      ]
     },
     "metadata": {},
     "output_type": "display_data"
    },
    {
     "data": {
      "image/png": "[encoded data removed]",
      "text/plain": [
       "<Figure size 800x800 with 1 Axes>"
      ]
     },
     "metadata": {},
     "output_type": "display_data"
    }
   ],
   "source": [
    "from matplotlib import pyplot as plt\n",
    "\n",
    "train_loss = history.history['loss']\n",
    "vald_loss = history.history['val_loss']\n",
    "train_acc = history.history['accuracy']\n",
    "vald_acc = history.history['val_accuracy']\n",
    "\n",
    "plt.figure(figsize=(8,8))\n",
    "plt.plot(train_loss, label='train loss')\n",
    "plt.plot(vald_loss, label='validation loss')\n",
    "\n",
    "plt.figure(figsize=(8,8))\n",
    "plt.plot(train_acc, label='train acc')\n",
    "plt.plot(vald_acc, label='validation acc')"
   ]
  },
  {
   "cell_type": "code",
   "execution_count": 25,
   "id": "01cf6212",
   "metadata": {},
   "outputs": [
    {
     "data": {
      "text/plain": [
       "<tensorflow.python.training.tracking.util.CheckpointLoadStatus at 0x28676b08d60>"
      ]
     },
     "execution_count": 25,
     "metadata": {},
     "output_type": "execute_result"
    }
   ],
   "source": [
    "model.load_weights('checkpoints/')"
   ]
  },
  {
   "cell_type": "code",
   "execution_count": 26,
   "id": "3255bd3c",
   "metadata": {},
   "outputs": [
    {
     "name": "stdout",
     "output_type": "stream",
     "text": [
      "0.8456175298804781\n",
      "[[10530   830]\n",
      " [ 1495  2205]]\n",
      "              precision    recall  f1-score   support\n",
      "\n",
      "         0.0       0.88      0.93      0.90     11360\n",
      "         1.0       0.73      0.60      0.65      3700\n",
      "\n",
      "    accuracy                           0.85     15060\n",
      "   macro avg       0.80      0.76      0.78     15060\n",
      "weighted avg       0.84      0.85      0.84     15060\n",
      "\n"
     ]
    }
   ],
   "source": [
    "from sklearn.metrics import confusion_matrix, classification_report, accuracy_score\n",
    "\n",
    "y_pred = np.empty((0,))\n",
    "y_test = np.empty((0,))\n",
    "\n",
    "for x_batch, y_batch in test_ds:\n",
    "    y_hat = model(x_batch)\n",
    "    y_hat = tf.sigmoid(y_hat)\n",
    "    y_hat = tf.math.round(y_hat)\n",
    "    y_hat = y_hat.numpy()\n",
    "    y_pred = np.append(y_pred, y_hat)\n",
    "    \n",
    "    y_batch = y_batch.numpy()\n",
    "    y_test = np.append(y_test, y_batch)\n",
    "    \n",
    "print(accuracy_score(y_test, y_pred))\n",
    "print(confusion_matrix(y_test, y_pred))\n",
    "print(classification_report(y_test, y_pred))"
   ]
  }
 ],
 "metadata": {
  "kernelspec": {
   "display_name": "Python 3 (ipykernel)",
   "language": "python",
   "name": "python3"
  },
  "language_info": {
   "codemirror_mode": {
    "name": "ipython",
    "version": 3
   },
   "file_extension": ".py",
   "mimetype": "text/x-python",
   "name": "python",
   "nbconvert_exporter": "python",
   "pygments_lexer": "ipython3",
   "version": "3.10.9"
  }
 },
 "nbformat": 4,
 "nbformat_minor": 5
}
