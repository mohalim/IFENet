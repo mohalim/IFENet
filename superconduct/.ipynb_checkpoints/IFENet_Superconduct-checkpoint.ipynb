{
 "cells": [
  {
   "cell_type": "markdown",
   "id": "7bcd1f5d-0bf6-4595-bedd-dd3b26f9f9d1",
   "metadata": {},
   "source": [
    "Ref: http://gaussianprocess.org/gpml/data/"
   ]
  },
  {
   "cell_type": "code",
   "execution_count": 2,
   "id": "d1d15824-1ec5-48f8-89b8-a58e8c075cf3",
   "metadata": {},
   "outputs": [],
   "source": [
    "import tensorflow as tf\n",
    "import matplotlib.pylab as plt\n",
    "import numpy as np\n",
    "import pandas as pd\n",
    "from matplotlib import pyplot as plt\n",
    "from sklearn.metrics import mean_squared_error, r2_score, mean_absolute_error"
   ]
  },
  {
   "cell_type": "code",
   "execution_count": 3,
   "id": "d4e6754d-b3a5-4c24-8455-2bc0404c9957",
   "metadata": {},
   "outputs": [
    {
     "name": "stdout",
     "output_type": "stream",
     "text": [
      "2.14.1\n"
     ]
    }
   ],
   "source": [
    "print(tf.__version__)"
   ]
  },
  {
   "cell_type": "code",
   "execution_count": 7,
   "id": "76a5f3ea-be07-4747-ac52-bba41e8aad58",
   "metadata": {},
   "outputs": [
    {
     "name": "stdout",
     "output_type": "stream",
     "text": [
      "['number_of_elements', 'mean_atomic_mass', 'wtd_mean_atomic_mass', 'gmean_atomic_mass', 'wtd_gmean_atomic_mass', 'entropy_atomic_mass', 'wtd_entropy_atomic_mass', 'range_atomic_mass', 'wtd_range_atomic_mass', 'std_atomic_mass', 'wtd_std_atomic_mass', 'mean_fie', 'wtd_mean_fie', 'gmean_fie', 'wtd_gmean_fie', 'entropy_fie', 'wtd_entropy_fie', 'range_fie', 'wtd_range_fie', 'std_fie', 'wtd_std_fie', 'mean_atomic_radius', 'wtd_mean_atomic_radius', 'gmean_atomic_radius', 'wtd_gmean_atomic_radius', 'entropy_atomic_radius', 'wtd_entropy_atomic_radius', 'range_atomic_radius', 'wtd_range_atomic_radius', 'std_atomic_radius', 'wtd_std_atomic_radius', 'mean_Density', 'wtd_mean_Density', 'gmean_Density', 'wtd_gmean_Density', 'entropy_Density', 'wtd_entropy_Density', 'range_Density', 'wtd_range_Density', 'std_Density', 'wtd_std_Density', 'mean_ElectronAffinity', 'wtd_mean_ElectronAffinity', 'gmean_ElectronAffinity', 'wtd_gmean_ElectronAffinity', 'entropy_ElectronAffinity', 'wtd_entropy_ElectronAffinity', 'range_ElectronAffinity', 'wtd_range_ElectronAffinity', 'std_ElectronAffinity', 'wtd_std_ElectronAffinity', 'mean_FusionHeat', 'wtd_mean_FusionHeat', 'gmean_FusionHeat', 'wtd_gmean_FusionHeat', 'entropy_FusionHeat', 'wtd_entropy_FusionHeat', 'range_FusionHeat', 'wtd_range_FusionHeat', 'std_FusionHeat', 'wtd_std_FusionHeat', 'mean_ThermalConductivity', 'wtd_mean_ThermalConductivity', 'gmean_ThermalConductivity', 'wtd_gmean_ThermalConductivity', 'entropy_ThermalConductivity', 'wtd_entropy_ThermalConductivity', 'range_ThermalConductivity', 'wtd_range_ThermalConductivity', 'std_ThermalConductivity', 'wtd_std_ThermalConductivity', 'mean_Valence', 'wtd_mean_Valence', 'gmean_Valence', 'wtd_gmean_Valence', 'entropy_Valence', 'wtd_entropy_Valence', 'range_Valence', 'wtd_range_Valence', 'std_Valence', 'wtd_std_Valence', 'critical_temp']\n"
     ]
    },
    {
     "data": {
      "text/plain": [
       "(21263, 82)"
      ]
     },
     "execution_count": 7,
     "metadata": {},
     "output_type": "execute_result"
    }
   ],
   "source": [
    "filepath = 'superconductivity.csv'\n",
    "columns = list(df.columns)\n",
    "target = 'critical_temp'\n",
    "\n",
    "# read dataset\n",
    "df = pd.read_csv(filepath)\n",
    "\n",
    "df.shape"
   ]
  },
  {
   "cell_type": "code",
   "execution_count": 48,
   "id": "e521dfdc-1ce7-4757-a5a2-86f1662024ef",
   "metadata": {},
   "outputs": [
    {
     "data": {
      "text/plain": [
       "1"
      ]
     },
     "execution_count": 48,
     "metadata": {},
     "output_type": "execute_result"
    }
   ],
   "source": [
    "len([target])"
   ]
  },
  {
   "cell_type": "code",
   "execution_count": 35,
   "id": "a2057f03-5618-4211-a734-f3710e90235c",
   "metadata": {},
   "outputs": [
    {
     "name": "stdout",
     "output_type": "stream",
     "text": [
      "X_train.shape: (4500, 21)\n",
      "X_vald.shape: (39984, 21)\n",
      "X_test.shape: (4449, 21)\n"
     ]
    }
   ],
   "source": [
    "from sklearn.model_selection import train_test_split\n",
    "\n",
    "y_train = df_train[target].values\n",
    "X_train = df_train.drop(columns=[target]).values\n",
    "y_test = df_test[target].values\n",
    "X_test = df_test.drop(columns=[target]).values\n",
    "\n",
    "X_train, X_vald, y_train, y_vald = train_test_split(X_train, y_train, train_size=4500, random_state=0)\n",
    "\n",
    "print(f'X_train.shape: {X_train.shape}')\n",
    "print(f'X_vald.shape: {X_vald.shape}')\n",
    "print(f'X_test.shape: {X_test.shape}')\n"
   ]
  },
  {
   "cell_type": "code",
   "execution_count": 36,
   "id": "bbbaf346-b058-42ba-83bd-02f5725af7d3",
   "metadata": {},
   "outputs": [],
   "source": [
    "# Normalize target column\n",
    "\n",
    "from sklearn.preprocessing import StandardScaler\n",
    "\n",
    "scaler = StandardScaler()\n",
    "y_train = scaler.fit_transform(y_train.reshape((-1,1)))\n",
    "y_vald = scaler.transform(y_vald.reshape((-1,1)))\n",
    "y_test = scaler.transform(y_test.reshape((-1,1)))\n",
    "\n",
    "y_train = y_train.ravel()\n",
    "y_vald = y_vald.ravel()\n",
    "y_test = y_test.ravel()"
   ]
  },
  {
   "cell_type": "code",
   "execution_count": 37,
   "id": "6eda3714-c00e-4a7a-ad0d-6d15bfe7ca46",
   "metadata": {},
   "outputs": [],
   "source": [
    "def array_to_dataset(data, target, shuffle=True, batch_size=128):\n",
    "    ds = tf.data.Dataset.from_tensor_slices((data, target))\n",
    "    if shuffle:\n",
    "        ds = ds.shuffle(batch_size*2).batch(batch_size).prefetch(batch_size)\n",
    "    else:\n",
    "        ds = ds.batch(batch_size)\n",
    "    return ds\n",
    "\n",
    "batch_size = 4096\n",
    "train_ds = array_to_dataset(X_train, y_train, batch_size=batch_size)\n",
    "vald_ds = array_to_dataset(X_vald, y_vald, shuffle=False, batch_size=batch_size)\n",
    "test_ds = array_to_dataset(X_test, y_test, shuffle=False, batch_size=batch_size)"
   ]
  },
  {
   "cell_type": "code",
   "execution_count": 38,
   "id": "4bc8b2fd-fd07-4ce8-9357-8771924dd24c",
   "metadata": {},
   "outputs": [
    {
     "name": "stdout",
     "output_type": "stream",
     "text": [
      "n_target: 1\n",
      "n_features: 21\n"
     ]
    }
   ],
   "source": [
    "import IterativeFeatureExclusion as IFE\n",
    "\n",
    "n_features = X_train.shape[1]\n",
    "_, counts = np.unique(y_train, return_counts=True)\n",
    "n_response = 1\n",
    "ife_num_layers = 1\n",
    "clf_hidden_size = 65\n",
    "num_att = 8\n",
    "r = 5.9675\n",
    "\n",
    "print(f'n_target: {n_target}')\n",
    "print(f'n_features: {n_features}')\n",
    "\n",
    "ife_params = {'n_features': n_features,\n",
    "              'n_response': n_response,\n",
    "              'num_att': num_att,\n",
    "              'r': r,\n",
    "              'ife_num_layers': ife_num_layers, \n",
    "              'clf_hidden_size': clf_hidden_size,              \n",
    "             }\n",
    "model = IFE.IFENetRegressor(**ife_params)"
   ]
  },
  {
   "cell_type": "code",
   "execution_count": 43,
   "id": "880a1ff3-f3b8-40d6-9acb-ae5a230d5fa7",
   "metadata": {},
   "outputs": [],
   "source": [
    "loss_fn = tf.keras.losses.MeanSquaredError()\n",
    "\n",
    "lr = 0.015\n",
    "lr_scheduler = tf.keras.optimizers.schedules.ExponentialDecay(initial_learning_rate=lr, \n",
    "                                                              decay_steps=2000,\n",
    "                                                              decay_rate=0.95,\n",
    "                                                              staircase=True)\n",
    "optimizer = tf.keras.optimizers.Adam(learning_rate=lr_scheduler)\n",
    "\n",
    "checkpoint_path = 'checkpoints/ifeNet_sarcos.h5'\n",
    "patience = 100\n",
    "callbacks = [tf.keras.callbacks.EarlyStopping(patience=patience, monitor='val_loss'),\n",
    "             tf.keras.callbacks.ModelCheckpoint(filepath=checkpoint_path, save_weights_only=True, monitor='val_loss')]\n",
    "\n",
    "epochs = 100\n",
    "model.compile(optimizer=optimizer, loss=loss_fn, metrics=['mae'])"
   ]
  },
  {
   "cell_type": "code",
   "execution_count": 44,
   "id": "d115a606-fe04-4b8a-8f68-a1037f1a69d7",
   "metadata": {},
   "outputs": [
    {
     "name": "stdout",
     "output_type": "stream",
     "text": [
      "Epoch 1/100\n",
      "2/2 - 6s - loss: 0.6081 - mae: 0.5076 - val_loss: 0.6176 - val_mae: 0.5477 - 6s/epoch - 3s/step\n",
      "Epoch 2/100\n",
      "2/2 - 1s - loss: 0.6109 - mae: 0.5139 - val_loss: 0.6190 - val_mae: 0.5450 - 1s/epoch - 531ms/step\n",
      "Epoch 3/100\n",
      "2/2 - 1s - loss: 0.6130 - mae: 0.5183 - val_loss: 0.6215 - val_mae: 0.5485 - 1s/epoch - 505ms/step\n",
      "Epoch 4/100\n",
      "2/2 - 1s - loss: 0.6104 - mae: 0.5128 - val_loss: 0.6160 - val_mae: 0.5458 - 1s/epoch - 543ms/step\n",
      "Epoch 5/100\n",
      "2/2 - 1s - loss: 0.6083 - mae: 0.5087 - val_loss: 0.6170 - val_mae: 0.5471 - 977ms/epoch - 489ms/step\n",
      "Epoch 6/100\n",
      "2/2 - 1s - loss: 0.6090 - mae: 0.5108 - val_loss: 0.6163 - val_mae: 0.5457 - 996ms/epoch - 498ms/step\n",
      "Epoch 7/100\n",
      "2/2 - 1s - loss: 0.6078 - mae: 0.5077 - val_loss: 0.6128 - val_mae: 0.5419 - 978ms/epoch - 489ms/step\n",
      "Epoch 8/100\n",
      "2/2 - 1s - loss: 0.6081 - mae: 0.5090 - val_loss: 0.6097 - val_mae: 0.5374 - 994ms/epoch - 497ms/step\n",
      "Epoch 9/100\n",
      "2/2 - 1s - loss: 0.6077 - mae: 0.5075 - val_loss: 0.6134 - val_mae: 0.5404 - 1s/epoch - 508ms/step\n",
      "Epoch 10/100\n",
      "2/2 - 1s - loss: 0.6079 - mae: 0.5083 - val_loss: 0.6142 - val_mae: 0.5414 - 998ms/epoch - 499ms/step\n",
      "Epoch 11/100\n",
      "2/2 - 1s - loss: 0.6081 - mae: 0.5093 - val_loss: 0.6075 - val_mae: 0.5350 - 1000ms/epoch - 500ms/step\n",
      "Epoch 12/100\n",
      "2/2 - 1s - loss: 0.6063 - mae: 0.5044 - val_loss: 0.6076 - val_mae: 0.5357 - 1000ms/epoch - 500ms/step\n",
      "Epoch 13/100\n",
      "2/2 - 1s - loss: 0.6067 - mae: 0.5051 - val_loss: 0.6084 - val_mae: 0.5365 - 1s/epoch - 542ms/step\n",
      "Epoch 14/100\n",
      "2/2 - 1s - loss: 0.6069 - mae: 0.5056 - val_loss: 0.6034 - val_mae: 0.5292 - 1s/epoch - 556ms/step\n",
      "Epoch 15/100\n",
      "2/2 - 1s - loss: 0.6065 - mae: 0.5044 - val_loss: 0.6008 - val_mae: 0.5248 - 989ms/epoch - 494ms/step\n",
      "Epoch 16/100\n",
      "2/2 - 1s - loss: 0.6080 - mae: 0.5093 - val_loss: 0.6066 - val_mae: 0.5334 - 1s/epoch - 513ms/step\n",
      "Epoch 17/100\n",
      "2/2 - 1s - loss: 0.6073 - mae: 0.5063 - val_loss: 0.6112 - val_mae: 0.5406 - 1s/epoch - 537ms/step\n",
      "Epoch 18/100\n",
      "2/2 - 1s - loss: 0.6075 - mae: 0.5069 - val_loss: 0.6082 - val_mae: 0.5372 - 1s/epoch - 554ms/step\n",
      "Epoch 19/100\n",
      "2/2 - 1s - loss: 0.6075 - mae: 0.5082 - val_loss: 0.6020 - val_mae: 0.5276 - 1s/epoch - 508ms/step\n",
      "Epoch 20/100\n",
      "2/2 - 1s - loss: 0.6058 - mae: 0.5028 - val_loss: 0.5979 - val_mae: 0.5199 - 1s/epoch - 615ms/step\n",
      "Epoch 21/100\n",
      "2/2 - 1s - loss: 0.6065 - mae: 0.5049 - val_loss: 0.5985 - val_mae: 0.5205 - 1s/epoch - 658ms/step\n",
      "Epoch 22/100\n",
      "2/2 - 1s - loss: 0.6072 - mae: 0.5074 - val_loss: 0.6023 - val_mae: 0.5265 - 1s/epoch - 659ms/step\n",
      "Epoch 23/100\n",
      "2/2 - 1s - loss: 0.6065 - mae: 0.5056 - val_loss: 0.6033 - val_mae: 0.5282 - 1s/epoch - 530ms/step\n",
      "Epoch 24/100\n",
      "2/2 - 1s - loss: 0.6061 - mae: 0.5041 - val_loss: 0.6019 - val_mae: 0.5265 - 1s/epoch - 508ms/step\n",
      "Epoch 25/100\n",
      "2/2 - 1s - loss: 0.6054 - mae: 0.5018 - val_loss: 0.5997 - val_mae: 0.5234 - 1s/epoch - 518ms/step\n",
      "Epoch 26/100\n",
      "2/2 - 1s - loss: 0.6053 - mae: 0.5013 - val_loss: 0.5965 - val_mae: 0.5183 - 993ms/epoch - 497ms/step\n",
      "Epoch 27/100\n",
      "2/2 - 2s - loss: 0.6067 - mae: 0.5054 - val_loss: 0.5966 - val_mae: 0.5182 - 2s/epoch - 750ms/step\n",
      "Epoch 28/100\n",
      "2/2 - 1s - loss: 0.6063 - mae: 0.5046 - val_loss: 0.6005 - val_mae: 0.5242 - 1s/epoch - 595ms/step\n",
      "Epoch 29/100\n",
      "2/2 - 1s - loss: 0.6052 - mae: 0.5010 - val_loss: 0.6017 - val_mae: 0.5264 - 1s/epoch - 605ms/step\n",
      "Epoch 30/100\n",
      "2/2 - 1s - loss: 0.6054 - mae: 0.5019 - val_loss: 0.5971 - val_mae: 0.5195 - 1s/epoch - 550ms/step\n",
      "Epoch 31/100\n",
      "2/2 - 1s - loss: 0.6055 - mae: 0.5027 - val_loss: 0.5951 - val_mae: 0.5159 - 1s/epoch - 500ms/step\n",
      "Epoch 32/100\n",
      "2/2 - 1s - loss: 0.6052 - mae: 0.5016 - val_loss: 0.5977 - val_mae: 0.5198 - 1s/epoch - 504ms/step\n",
      "Epoch 33/100\n",
      "2/2 - 1s - loss: 0.6051 - mae: 0.5012 - val_loss: 0.5992 - val_mae: 0.5229 - 1s/epoch - 529ms/step\n",
      "Epoch 34/100\n",
      "2/2 - 1s - loss: 0.6052 - mae: 0.5016 - val_loss: 0.5997 - val_mae: 0.5243 - 1s/epoch - 561ms/step\n",
      "Epoch 35/100\n",
      "2/2 - 1s - loss: 0.6050 - mae: 0.5008 - val_loss: 0.5980 - val_mae: 0.5219 - 1s/epoch - 514ms/step\n",
      "Epoch 36/100\n",
      "2/2 - 1s - loss: 0.6053 - mae: 0.5013 - val_loss: 0.5948 - val_mae: 0.5156 - 1s/epoch - 509ms/step\n",
      "Epoch 37/100\n",
      "2/2 - 1s - loss: 0.6049 - mae: 0.5005 - val_loss: 0.5959 - val_mae: 0.5167 - 1s/epoch - 541ms/step\n",
      "Epoch 38/100\n",
      "2/2 - 1s - loss: 0.6055 - mae: 0.5022 - val_loss: 0.5971 - val_mae: 0.5183 - 1s/epoch - 533ms/step\n",
      "Epoch 39/100\n",
      "2/2 - 1s - loss: 0.6056 - mae: 0.5027 - val_loss: 0.5962 - val_mae: 0.5164 - 1s/epoch - 523ms/step\n",
      "Epoch 40/100\n",
      "2/2 - 1s - loss: 0.6058 - mae: 0.5037 - val_loss: 0.5950 - val_mae: 0.5157 - 1s/epoch - 531ms/step\n",
      "Epoch 41/100\n",
      "2/2 - 1s - loss: 0.6048 - mae: 0.5006 - val_loss: 0.5971 - val_mae: 0.5202 - 1s/epoch - 553ms/step\n",
      "Epoch 42/100\n",
      "2/2 - 1s - loss: 0.6061 - mae: 0.5045 - val_loss: 0.5975 - val_mae: 0.5205 - 1s/epoch - 519ms/step\n",
      "Epoch 43/100\n",
      "2/2 - 1s - loss: 0.6057 - mae: 0.5043 - val_loss: 0.5955 - val_mae: 0.5159 - 1s/epoch - 633ms/step\n",
      "Epoch 44/100\n",
      "2/2 - 1s - loss: 0.6051 - mae: 0.5015 - val_loss: 0.5918 - val_mae: 0.5089 - 1s/epoch - 620ms/step\n",
      "Epoch 45/100\n",
      "2/2 - 1s - loss: 0.6060 - mae: 0.5045 - val_loss: 0.5905 - val_mae: 0.5067 - 1s/epoch - 574ms/step\n",
      "Epoch 46/100\n",
      "2/2 - 1s - loss: 0.6057 - mae: 0.5037 - val_loss: 0.5957 - val_mae: 0.5170 - 955ms/epoch - 477ms/step\n",
      "Epoch 47/100\n",
      "2/2 - 1s - loss: 0.6050 - mae: 0.5014 - val_loss: 0.5972 - val_mae: 0.5196 - 1s/epoch - 539ms/step\n",
      "Epoch 48/100\n",
      "2/2 - 1s - loss: 0.6057 - mae: 0.5034 - val_loss: 0.5906 - val_mae: 0.5073 - 1s/epoch - 504ms/step\n",
      "Epoch 49/100\n",
      "2/2 - 1s - loss: 0.6055 - mae: 0.5019 - val_loss: 0.5920 - val_mae: 0.5092 - 1s/epoch - 519ms/step\n",
      "Epoch 50/100\n",
      "2/2 - 1s - loss: 0.6055 - mae: 0.5023 - val_loss: 0.5961 - val_mae: 0.5154 - 1s/epoch - 519ms/step\n",
      "Epoch 51/100\n",
      "2/2 - 1s - loss: 0.6064 - mae: 0.5044 - val_loss: 0.5914 - val_mae: 0.5089 - 1s/epoch - 505ms/step\n",
      "Epoch 52/100\n",
      "2/2 - 1s - loss: 0.6048 - mae: 0.5011 - val_loss: 0.5896 - val_mae: 0.5056 - 985ms/epoch - 493ms/step\n",
      "Epoch 53/100\n",
      "2/2 - 1s - loss: 0.6068 - mae: 0.5059 - val_loss: 0.5905 - val_mae: 0.5076 - 986ms/epoch - 493ms/step\n",
      "Epoch 54/100\n",
      "2/2 - 1s - loss: 0.6046 - mae: 0.4999 - val_loss: 0.5950 - val_mae: 0.5148 - 980ms/epoch - 490ms/step\n",
      "Epoch 55/100\n",
      "2/2 - 1s - loss: 0.6056 - mae: 0.5027 - val_loss: 0.5923 - val_mae: 0.5092 - 1s/epoch - 520ms/step\n",
      "Epoch 56/100\n",
      "2/2 - 1s - loss: 0.6057 - mae: 0.5029 - val_loss: 0.5901 - val_mae: 0.5050 - 988ms/epoch - 494ms/step\n",
      "Epoch 57/100\n",
      "2/2 - 1s - loss: 0.6058 - mae: 0.5038 - val_loss: 0.5909 - val_mae: 0.5065 - 962ms/epoch - 481ms/step\n",
      "Epoch 58/100\n",
      "2/2 - 1s - loss: 0.6049 - mae: 0.5013 - val_loss: 0.5941 - val_mae: 0.5133 - 1s/epoch - 513ms/step\n",
      "Epoch 59/100\n",
      "2/2 - 1s - loss: 0.6048 - mae: 0.5006 - val_loss: 0.5934 - val_mae: 0.5129 - 1s/epoch - 561ms/step\n",
      "Epoch 60/100\n",
      "2/2 - 1s - loss: 0.6048 - mae: 0.5009 - val_loss: 0.5875 - val_mae: 0.5002 - 1s/epoch - 564ms/step\n",
      "Epoch 61/100\n",
      "2/2 - 1s - loss: 0.6056 - mae: 0.5021 - val_loss: 0.5865 - val_mae: 0.4984 - 1s/epoch - 511ms/step\n",
      "Epoch 62/100\n",
      "2/2 - 1s - loss: 0.6058 - mae: 0.5035 - val_loss: 0.5901 - val_mae: 0.5064 - 1s/epoch - 501ms/step\n",
      "Epoch 63/100\n",
      "2/2 - 1s - loss: 0.6045 - mae: 0.4998 - val_loss: 0.5908 - val_mae: 0.5078 - 1s/epoch - 541ms/step\n",
      "Epoch 64/100\n",
      "2/2 - 1s - loss: 0.6046 - mae: 0.5002 - val_loss: 0.5884 - val_mae: 0.5030 - 1s/epoch - 616ms/step\n",
      "Epoch 65/100\n",
      "2/2 - 1s - loss: 0.6044 - mae: 0.4994 - val_loss: 0.5879 - val_mae: 0.5018 - 1s/epoch - 515ms/step\n",
      "Epoch 66/100\n",
      "2/2 - 1s - loss: 0.6052 - mae: 0.5019 - val_loss: 0.5882 - val_mae: 0.5023 - 997ms/epoch - 499ms/step\n",
      "Epoch 67/100\n",
      "2/2 - 1s - loss: 0.6046 - mae: 0.5005 - val_loss: 0.5901 - val_mae: 0.5059 - 1s/epoch - 552ms/step\n",
      "Epoch 68/100\n",
      "2/2 - 1s - loss: 0.6046 - mae: 0.4998 - val_loss: 0.5902 - val_mae: 0.5062 - 1000ms/epoch - 500ms/step\n",
      "Epoch 69/100\n",
      "2/2 - 1s - loss: 0.6055 - mae: 0.5027 - val_loss: 0.5884 - val_mae: 0.5028 - 1s/epoch - 603ms/step\n",
      "Epoch 70/100\n",
      "2/2 - 1s - loss: 0.6042 - mae: 0.4995 - val_loss: 0.5896 - val_mae: 0.5057 - 1s/epoch - 577ms/step\n",
      "Epoch 71/100\n",
      "2/2 - 1s - loss: 0.6046 - mae: 0.5008 - val_loss: 0.5893 - val_mae: 0.5054 - 1s/epoch - 561ms/step\n",
      "Epoch 72/100\n",
      "2/2 - 1s - loss: 0.6055 - mae: 0.5030 - val_loss: 0.5887 - val_mae: 0.5036 - 1s/epoch - 523ms/step\n",
      "Epoch 73/100\n",
      "2/2 - 1s - loss: 0.6039 - mae: 0.4985 - val_loss: 0.5911 - val_mae: 0.5078 - 935ms/epoch - 468ms/step\n",
      "Epoch 74/100\n",
      "2/2 - 1s - loss: 0.6052 - mae: 0.5020 - val_loss: 0.5903 - val_mae: 0.5062 - 1s/epoch - 515ms/step\n",
      "Epoch 75/100\n",
      "2/2 - 1s - loss: 0.6052 - mae: 0.5024 - val_loss: 0.5889 - val_mae: 0.5030 - 939ms/epoch - 469ms/step\n",
      "Epoch 76/100\n",
      "2/2 - 1s - loss: 0.6039 - mae: 0.4985 - val_loss: 0.5892 - val_mae: 0.5038 - 956ms/epoch - 478ms/step\n",
      "Epoch 77/100\n",
      "2/2 - 1s - loss: 0.6044 - mae: 0.4998 - val_loss: 0.5874 - val_mae: 0.5008 - 935ms/epoch - 468ms/step\n",
      "Epoch 78/100\n",
      "2/2 - 1s - loss: 0.6042 - mae: 0.4995 - val_loss: 0.5869 - val_mae: 0.4993 - 947ms/epoch - 473ms/step\n",
      "Epoch 79/100\n",
      "2/2 - 1s - loss: 0.6034 - mae: 0.4969 - val_loss: 0.5898 - val_mae: 0.5052 - 930ms/epoch - 465ms/step\n",
      "Epoch 80/100\n",
      "2/2 - 1s - loss: 0.6046 - mae: 0.5004 - val_loss: 0.5886 - val_mae: 0.5028 - 920ms/epoch - 460ms/step\n",
      "Epoch 81/100\n",
      "2/2 - 1s - loss: 0.6048 - mae: 0.5007 - val_loss: 0.5869 - val_mae: 0.4993 - 933ms/epoch - 467ms/step\n",
      "Epoch 82/100\n",
      "2/2 - 1s - loss: 0.6044 - mae: 0.5005 - val_loss: 0.5881 - val_mae: 0.5018 - 1s/epoch - 526ms/step\n",
      "Epoch 83/100\n",
      "2/2 - 1s - loss: 0.6043 - mae: 0.5001 - val_loss: 0.5867 - val_mae: 0.4982 - 1s/epoch - 514ms/step\n",
      "Epoch 84/100\n",
      "2/2 - 1s - loss: 0.6039 - mae: 0.4986 - val_loss: 0.5854 - val_mae: 0.4955 - 1s/epoch - 530ms/step\n",
      "Epoch 85/100\n",
      "2/2 - 1s - loss: 0.6046 - mae: 0.5008 - val_loss: 0.5860 - val_mae: 0.4971 - 1s/epoch - 549ms/step\n",
      "Epoch 86/100\n",
      "2/2 - 1s - loss: 0.6043 - mae: 0.4993 - val_loss: 0.5875 - val_mae: 0.5010 - 1s/epoch - 630ms/step\n",
      "Epoch 87/100\n",
      "2/2 - 1s - loss: 0.6046 - mae: 0.5014 - val_loss: 0.5875 - val_mae: 0.5010 - 970ms/epoch - 485ms/step\n",
      "Epoch 88/100\n",
      "2/2 - 1s - loss: 0.6045 - mae: 0.5009 - val_loss: 0.5887 - val_mae: 0.5037 - 990ms/epoch - 495ms/step\n",
      "Epoch 89/100\n",
      "2/2 - 1s - loss: 0.6046 - mae: 0.5011 - val_loss: 0.5880 - val_mae: 0.5028 - 1s/epoch - 568ms/step\n",
      "Epoch 90/100\n",
      "2/2 - 1s - loss: 0.6043 - mae: 0.5008 - val_loss: 0.5852 - val_mae: 0.4953 - 999ms/epoch - 499ms/step\n",
      "Epoch 91/100\n",
      "2/2 - 1s - loss: 0.6048 - mae: 0.5001 - val_loss: 0.5861 - val_mae: 0.4981 - 1s/epoch - 510ms/step\n",
      "Epoch 92/100\n",
      "2/2 - 1s - loss: 0.6046 - mae: 0.5007 - val_loss: 0.5880 - val_mae: 0.5016 - 1s/epoch - 518ms/step\n",
      "Epoch 93/100\n",
      "2/2 - 1s - loss: 0.6040 - mae: 0.4988 - val_loss: 0.5870 - val_mae: 0.4995 - 964ms/epoch - 482ms/step\n",
      "Epoch 94/100\n",
      "2/2 - 1s - loss: 0.6038 - mae: 0.4982 - val_loss: 0.5850 - val_mae: 0.4949 - 1s/epoch - 534ms/step\n",
      "Epoch 95/100\n",
      "2/2 - 1s - loss: 0.6039 - mae: 0.4983 - val_loss: 0.5847 - val_mae: 0.4944 - 1s/epoch - 535ms/step\n",
      "Epoch 96/100\n",
      "2/2 - 1s - loss: 0.6045 - mae: 0.4999 - val_loss: 0.5861 - val_mae: 0.4975 - 946ms/epoch - 473ms/step\n",
      "Epoch 97/100\n",
      "2/2 - 1s - loss: 0.6035 - mae: 0.4972 - val_loss: 0.5861 - val_mae: 0.4979 - 1s/epoch - 533ms/step\n",
      "Epoch 98/100\n",
      "2/2 - 1s - loss: 0.6035 - mae: 0.4979 - val_loss: 0.5857 - val_mae: 0.4969 - 955ms/epoch - 477ms/step\n",
      "Epoch 99/100\n",
      "2/2 - 1s - loss: 0.6045 - mae: 0.4999 - val_loss: 0.5867 - val_mae: 0.4994 - 1s/epoch - 533ms/step\n",
      "Epoch 100/100\n",
      "2/2 - 1s - loss: 0.6037 - mae: 0.4982 - val_loss: 0.5893 - val_mae: 0.5053 - 950ms/epoch - 475ms/step\n"
     ]
    }
   ],
   "source": [
    "saved_model_path = 'saved_model/ifeNet_sarcos.h5'\n",
    "model.fit(train_ds, validation_data=vald_ds, epochs=epochs, callbacks=callbacks, verbose=2)\n",
    "model.load_weights(checkpoint_path)\n",
    "model.save_weights(saved_model_path)"
   ]
  },
  {
   "cell_type": "code",
   "execution_count": 16,
   "id": "c9b2b282-7d61-40ac-970a-daa7622fff05",
   "metadata": {},
   "outputs": [],
   "source": [
    "y_pred = np.empty((0,))\n",
    "y_test = np.empty((0,))\n",
    "\n",
    "for data,label in test_ds:\n",
    "    y_hat = model(data)\n",
    "    y_pred = np.append(y_pred, y_hat.numpy().ravel())\n",
    "\n",
    "    label = label.numpy()\n",
    "    y_test = np.append(y_test, label.ravel())"
   ]
  },
  {
   "cell_type": "code",
   "execution_count": 24,
   "id": "0ed38f21-de07-4e91-858f-38fa7c6c3ea4",
   "metadata": {},
   "outputs": [
    {
     "data": {
      "text/plain": [
       "0.6583020687103271"
      ]
     },
     "execution_count": 24,
     "metadata": {},
     "output_type": "execute_result"
    }
   ],
   "source": [
    "y_pred.max()"
   ]
  },
  {
   "cell_type": "code",
   "execution_count": 25,
   "id": "50cf3817-245d-4c86-8f77-48a4c181c08a",
   "metadata": {},
   "outputs": [
    {
     "name": "stdout",
     "output_type": "stream",
     "text": [
      "0.4528119753756158\n",
      "0.0054882658180464205\n",
      "0.056801059710301555\n"
     ]
    }
   ],
   "source": [
    "print(r2_score(y_test, y_pred))\n",
    "print(mean_squared_error(y_test, y_pred))\n",
    "print(mean_absolute_error(y_test, y_pred))"
   ]
  },
  {
   "cell_type": "code",
   "execution_count": null,
   "id": "7e9d7509-0884-4559-9ce0-92c80a89b8ab",
   "metadata": {},
   "outputs": [],
   "source": []
  }
 ],
 "metadata": {
  "kernelspec": {
   "display_name": "Python 3 (ipykernel)",
   "language": "python",
   "name": "python3"
  },
  "language_info": {
   "codemirror_mode": {
    "name": "ipython",
    "version": 3
   },
   "file_extension": ".py",
   "mimetype": "text/x-python",
   "name": "python",
   "nbconvert_exporter": "python",
   "pygments_lexer": "ipython3",
   "version": "3.9.20"
  }
 },
 "nbformat": 4,
 "nbformat_minor": 5
}
