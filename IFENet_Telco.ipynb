{
 "cells": [
  {
   "cell_type": "code",
   "execution_count": 1,
   "id": "07da75f6-97bc-4810-b1a9-f2c74099420b",
   "metadata": {},
   "outputs": [],
   "source": [
    "import tensorflow as tf\n",
    "import matplotlib.pylab as plt\n",
    "import numpy as np\n",
    "import pandas as pd\n",
    "from matplotlib import pyplot as plt\n",
    "from sklearn.metrics import confusion_matrix, classification_report, accuracy_score"
   ]
  },
  {
   "cell_type": "code",
   "execution_count": 2,
   "id": "df671951-d2e0-49a3-8129-0d1f8674e379",
   "metadata": {},
   "outputs": [
    {
     "data": {
      "text/html": [
       "<div>\n",
       "<style scoped>\n",
       "    .dataframe tbody tr th:only-of-type {\n",
       "        vertical-align: middle;\n",
       "    }\n",
       "\n",
       "    .dataframe tbody tr th {\n",
       "        vertical-align: top;\n",
       "    }\n",
       "\n",
       "    .dataframe thead th {\n",
       "        text-align: right;\n",
       "    }\n",
       "</style>\n",
       "<table border=\"1\" class=\"dataframe\">\n",
       "  <thead>\n",
       "    <tr style=\"text-align: right;\">\n",
       "      <th></th>\n",
       "      <th>gender</th>\n",
       "      <th>SeniorCitizen</th>\n",
       "      <th>Partner</th>\n",
       "      <th>Dependents</th>\n",
       "      <th>tenure</th>\n",
       "      <th>PhoneService</th>\n",
       "      <th>MultipleLines</th>\n",
       "      <th>InternetService</th>\n",
       "      <th>OnlineSecurity</th>\n",
       "      <th>OnlineBackup</th>\n",
       "      <th>DeviceProtection</th>\n",
       "      <th>TechSupport</th>\n",
       "      <th>StreamingTV</th>\n",
       "      <th>StreamingMovies</th>\n",
       "      <th>Contract</th>\n",
       "      <th>PaperlessBilling</th>\n",
       "      <th>PaymentMethod</th>\n",
       "      <th>MonthlyCharges</th>\n",
       "      <th>TotalCharges</th>\n",
       "      <th>Churn</th>\n",
       "    </tr>\n",
       "  </thead>\n",
       "  <tbody>\n",
       "    <tr>\n",
       "      <th>5975</th>\n",
       "      <td>Male</td>\n",
       "      <td>0</td>\n",
       "      <td>Yes</td>\n",
       "      <td>Yes</td>\n",
       "      <td>7</td>\n",
       "      <td>Yes</td>\n",
       "      <td>No</td>\n",
       "      <td>Fiber optic</td>\n",
       "      <td>No</td>\n",
       "      <td>Yes</td>\n",
       "      <td>No</td>\n",
       "      <td>Yes</td>\n",
       "      <td>Yes</td>\n",
       "      <td>No</td>\n",
       "      <td>Month-to-month</td>\n",
       "      <td>Yes</td>\n",
       "      <td>Electronic check</td>\n",
       "      <td>89.75</td>\n",
       "      <td>608.8</td>\n",
       "      <td>Yes</td>\n",
       "    </tr>\n",
       "    <tr>\n",
       "      <th>4584</th>\n",
       "      <td>Male</td>\n",
       "      <td>1</td>\n",
       "      <td>No</td>\n",
       "      <td>No</td>\n",
       "      <td>69</td>\n",
       "      <td>Yes</td>\n",
       "      <td>Yes</td>\n",
       "      <td>DSL</td>\n",
       "      <td>Yes</td>\n",
       "      <td>No</td>\n",
       "      <td>Yes</td>\n",
       "      <td>Yes</td>\n",
       "      <td>No</td>\n",
       "      <td>Yes</td>\n",
       "      <td>Two year</td>\n",
       "      <td>No</td>\n",
       "      <td>Credit card (automatic)</td>\n",
       "      <td>74.10</td>\n",
       "      <td>5031</td>\n",
       "      <td>No</td>\n",
       "    </tr>\n",
       "    <tr>\n",
       "      <th>1493</th>\n",
       "      <td>Male</td>\n",
       "      <td>0</td>\n",
       "      <td>No</td>\n",
       "      <td>No</td>\n",
       "      <td>11</td>\n",
       "      <td>Yes</td>\n",
       "      <td>No</td>\n",
       "      <td>Fiber optic</td>\n",
       "      <td>Yes</td>\n",
       "      <td>No</td>\n",
       "      <td>Yes</td>\n",
       "      <td>No</td>\n",
       "      <td>No</td>\n",
       "      <td>No</td>\n",
       "      <td>Month-to-month</td>\n",
       "      <td>Yes</td>\n",
       "      <td>Bank transfer (automatic)</td>\n",
       "      <td>79.50</td>\n",
       "      <td>795.65</td>\n",
       "      <td>No</td>\n",
       "    </tr>\n",
       "    <tr>\n",
       "      <th>958</th>\n",
       "      <td>Male</td>\n",
       "      <td>0</td>\n",
       "      <td>No</td>\n",
       "      <td>No</td>\n",
       "      <td>25</td>\n",
       "      <td>Yes</td>\n",
       "      <td>Yes</td>\n",
       "      <td>DSL</td>\n",
       "      <td>Yes</td>\n",
       "      <td>Yes</td>\n",
       "      <td>Yes</td>\n",
       "      <td>Yes</td>\n",
       "      <td>No</td>\n",
       "      <td>Yes</td>\n",
       "      <td>Month-to-month</td>\n",
       "      <td>No</td>\n",
       "      <td>Bank transfer (automatic)</td>\n",
       "      <td>81.75</td>\n",
       "      <td>2028.8</td>\n",
       "      <td>No</td>\n",
       "    </tr>\n",
       "    <tr>\n",
       "      <th>1431</th>\n",
       "      <td>Female</td>\n",
       "      <td>0</td>\n",
       "      <td>Yes</td>\n",
       "      <td>No</td>\n",
       "      <td>43</td>\n",
       "      <td>Yes</td>\n",
       "      <td>Yes</td>\n",
       "      <td>DSL</td>\n",
       "      <td>No</td>\n",
       "      <td>No</td>\n",
       "      <td>No</td>\n",
       "      <td>Yes</td>\n",
       "      <td>Yes</td>\n",
       "      <td>No</td>\n",
       "      <td>One year</td>\n",
       "      <td>Yes</td>\n",
       "      <td>Bank transfer (automatic)</td>\n",
       "      <td>64.85</td>\n",
       "      <td>2908.2</td>\n",
       "      <td>No</td>\n",
       "    </tr>\n",
       "  </tbody>\n",
       "</table>\n",
       "</div>"
      ],
      "text/plain": [
       "      gender  SeniorCitizen Partner Dependents  tenure PhoneService  \\\n",
       "5975    Male              0     Yes        Yes       7          Yes   \n",
       "4584    Male              1      No         No      69          Yes   \n",
       "1493    Male              0      No         No      11          Yes   \n",
       "958     Male              0      No         No      25          Yes   \n",
       "1431  Female              0     Yes         No      43          Yes   \n",
       "\n",
       "     MultipleLines InternetService OnlineSecurity OnlineBackup  \\\n",
       "5975            No     Fiber optic             No          Yes   \n",
       "4584           Yes             DSL            Yes           No   \n",
       "1493            No     Fiber optic            Yes           No   \n",
       "958            Yes             DSL            Yes          Yes   \n",
       "1431           Yes             DSL             No           No   \n",
       "\n",
       "     DeviceProtection TechSupport StreamingTV StreamingMovies        Contract  \\\n",
       "5975               No         Yes         Yes              No  Month-to-month   \n",
       "4584              Yes         Yes          No             Yes        Two year   \n",
       "1493              Yes          No          No              No  Month-to-month   \n",
       "958               Yes         Yes          No             Yes  Month-to-month   \n",
       "1431               No         Yes         Yes              No        One year   \n",
       "\n",
       "     PaperlessBilling              PaymentMethod  MonthlyCharges TotalCharges  \\\n",
       "5975              Yes           Electronic check           89.75        608.8   \n",
       "4584               No    Credit card (automatic)           74.10         5031   \n",
       "1493              Yes  Bank transfer (automatic)           79.50       795.65   \n",
       "958                No  Bank transfer (automatic)           81.75       2028.8   \n",
       "1431              Yes  Bank transfer (automatic)           64.85       2908.2   \n",
       "\n",
       "     Churn  \n",
       "5975   Yes  \n",
       "4584    No  \n",
       "1493    No  \n",
       "958     No  \n",
       "1431    No  "
      ]
     },
     "execution_count": 2,
     "metadata": {},
     "output_type": "execute_result"
    }
   ],
   "source": [
    "filepath = 'telco_customer_churn.csv'\n",
    "df = pd.read_csv(filepath)\n",
    "df = df.drop(columns=['customerID'])\n",
    "df.sample(5)"
   ]
  },
  {
   "cell_type": "code",
   "execution_count": 3,
   "id": "789e5f89-9289-47a3-af0e-d28c6bc8129c",
   "metadata": {},
   "outputs": [
    {
     "data": {
      "text/plain": [
       "gender               object\n",
       "SeniorCitizen         int64\n",
       "Partner              object\n",
       "Dependents           object\n",
       "tenure                int64\n",
       "PhoneService         object\n",
       "MultipleLines        object\n",
       "InternetService      object\n",
       "OnlineSecurity       object\n",
       "OnlineBackup         object\n",
       "DeviceProtection     object\n",
       "TechSupport          object\n",
       "StreamingTV          object\n",
       "StreamingMovies      object\n",
       "Contract             object\n",
       "PaperlessBilling     object\n",
       "PaymentMethod        object\n",
       "MonthlyCharges      float64\n",
       "TotalCharges         object\n",
       "Churn                object\n",
       "dtype: object"
      ]
     },
     "execution_count": 3,
     "metadata": {},
     "output_type": "execute_result"
    }
   ],
   "source": [
    "df.dtypes"
   ]
  },
  {
   "cell_type": "code",
   "execution_count": 4,
   "id": "c8ec3392-3594-466b-96d5-6855a54e8fc3",
   "metadata": {},
   "outputs": [],
   "source": [
    "features_cat = ['gender', 'SeniorCitizen', 'Partner', 'Dependents', 'PhoneService', 'MultipleLines', 'InternetService', 'OnlineSecurity',\n",
    "               'OnlineBackup', 'DeviceProtection', 'TechSupport', 'StreamingTV', 'StreamingMovies', 'Contract', 'PaperlessBilling', 'PaymentMethod']\n",
    "features_num = ['tenure', 'MonthlyCharges', 'TotalCharges']"
   ]
  },
  {
   "cell_type": "code",
   "execution_count": 5,
   "id": "d1985b45-eb37-4607-a8db-d152a8f06b8e",
   "metadata": {},
   "outputs": [
    {
     "data": {
      "text/plain": [
       "gender              category\n",
       "SeniorCitizen       category\n",
       "Partner             category\n",
       "Dependents          category\n",
       "tenure               float64\n",
       "PhoneService        category\n",
       "MultipleLines       category\n",
       "InternetService     category\n",
       "OnlineSecurity      category\n",
       "OnlineBackup        category\n",
       "DeviceProtection    category\n",
       "TechSupport         category\n",
       "StreamingTV         category\n",
       "StreamingMovies     category\n",
       "Contract            category\n",
       "PaperlessBilling    category\n",
       "PaymentMethod       category\n",
       "MonthlyCharges       float64\n",
       "TotalCharges         float64\n",
       "Churn                 object\n",
       "dtype: object"
      ]
     },
     "execution_count": 5,
     "metadata": {},
     "output_type": "execute_result"
    }
   ],
   "source": [
    "for col in features_cat:\n",
    "    df[col] = df[col].astype('category')\n",
    "\n",
    "for col in features_num:\n",
    "    try:\n",
    "        df[col] = df[col].astype('float')\n",
    "    except:\n",
    "        df[col] = pd.to_numeric(df[col], errors='coerce')\n",
    "\n",
    "df.dtypes"
   ]
  },
  {
   "cell_type": "code",
   "execution_count": 6,
   "id": "8901d60b-67c3-42c9-aefa-f9ec90c9c6e4",
   "metadata": {},
   "outputs": [
    {
     "name": "stdout",
     "output_type": "stream",
     "text": [
      "gender: 0\n",
      "SeniorCitizen: 0\n",
      "Partner: 0\n",
      "Dependents: 0\n",
      "tenure: 0\n",
      "PhoneService: 0\n",
      "MultipleLines: 0\n",
      "InternetService: 0\n",
      "OnlineSecurity: 0\n",
      "OnlineBackup: 0\n",
      "DeviceProtection: 0\n",
      "TechSupport: 0\n",
      "StreamingTV: 0\n",
      "StreamingMovies: 0\n",
      "Contract: 0\n",
      "PaperlessBilling: 0\n",
      "PaymentMethod: 0\n",
      "MonthlyCharges: 0\n",
      "TotalCharges: 11\n",
      "Churn: 0\n"
     ]
    }
   ],
   "source": [
    "# Check for missing values\n",
    "for c in df.columns:\n",
    "    print(f'{c}: {df[c].isna().sum()}')"
   ]
  },
  {
   "cell_type": "code",
   "execution_count": 7,
   "id": "b1330417-c40b-4f90-914d-ef3c4d734e14",
   "metadata": {},
   "outputs": [],
   "source": [
    "df = df.dropna()"
   ]
  },
  {
   "cell_type": "code",
   "execution_count": 8,
   "id": "2361adf8-3ea3-49dc-9589-931149c81073",
   "metadata": {},
   "outputs": [
    {
     "data": {
      "text/plain": [
       "(array(['No', 'Yes'], dtype=object), array([5163, 1869], dtype=int64))"
      ]
     },
     "execution_count": 8,
     "metadata": {},
     "output_type": "execute_result"
    }
   ],
   "source": [
    "np.unique(df['Churn'], return_counts=True)"
   ]
  },
  {
   "cell_type": "code",
   "execution_count": 9,
   "id": "94d5f5d1-9b2c-4739-8d24-5201ba19c7de",
   "metadata": {},
   "outputs": [],
   "source": [
    "from FeatureEncoder import FeatureEncoder\n",
    "from sklearn.preprocessing import LabelEncoder\n",
    "\n",
    "y = df['Churn'].values\n",
    "X = df.drop(columns=['Churn'])\n",
    "\n",
    "args = {'dataframe': X, 'features_cat': features_cat, 'features_num': features_num}\n",
    "\n",
    "feat_enc = FeatureEncoder(**args)\n",
    "feat_enc.encode()\n",
    "X = feat_enc.get_encoded_features()\n",
    "\n",
    "labelEnc = LabelEncoder()\n",
    "y = labelEnc.fit_transform(y)"
   ]
  },
  {
   "cell_type": "code",
   "execution_count": 10,
   "id": "830eb075-3cb3-4577-a593-4e889faa93ea",
   "metadata": {},
   "outputs": [
    {
     "name": "stdout",
     "output_type": "stream",
     "text": [
      "(4922, 46)\n",
      "(1055, 46)\n",
      "(1055, 46)\n",
      "(array([0, 1]), array([3608, 1314], dtype=int64))\n",
      "(array([0, 1]), array([759, 296], dtype=int64))\n",
      "(array([0, 1]), array([796, 259], dtype=int64))\n"
     ]
    }
   ],
   "source": [
    "from sklearn.model_selection import train_test_split\n",
    "\n",
    "X_train, X_tmp, y_train, y_tmp = train_test_split(X, y, train_size=0.7, random_state=0)\n",
    "X_vald, X_test, y_vald, y_test = train_test_split(X_tmp, y_tmp, train_size=0.5, random_state=0)\n",
    "\n",
    "print(X_train.shape)\n",
    "print(X_vald.shape)\n",
    "print(X_test.shape)\n",
    "\n",
    "print(np.unique(y_train, return_counts=True))\n",
    "print(np.unique(y_vald, return_counts=True))\n",
    "print(np.unique(y_test, return_counts=True))"
   ]
  },
  {
   "cell_type": "code",
   "execution_count": 11,
   "id": "3bd45924-5c9b-46f1-84c4-c0402bba8b18",
   "metadata": {},
   "outputs": [],
   "source": [
    "def array_to_dataset(data, target, shuffle=True, batch_size=64):\n",
    "    ds = tf.data.Dataset.from_tensor_slices((data, target))\n",
    "    if shuffle:\n",
    "        ds = ds.shuffle(batch_size*2).batch(batch_size).prefetch(batch_size)\n",
    "    else:\n",
    "        ds = ds.batch(batch_size)\n",
    "    return ds\n",
    "\n",
    "train_ds = array_to_dataset(X_train, y_train)\n",
    "vald_ds = array_to_dataset(X_vald, y_vald, shuffle=False)\n",
    "test_ds = array_to_dataset(X_test, y_test, shuffle=False)"
   ]
  },
  {
   "cell_type": "code",
   "execution_count": 12,
   "id": "594896ed-262b-46ba-805a-33219aace8d5",
   "metadata": {},
   "outputs": [
    {
     "name": "stdout",
     "output_type": "stream",
     "text": [
      "Number of classes: 2\n"
     ]
    }
   ],
   "source": [
    "import IterativeFeatureExclusion as IFE\n",
    "\n",
    "n_features = X_train.shape[1]\n",
    "_, counts = np.unique(y_train, return_counts=True)\n",
    "n_classes = len(counts)\n",
    "hidden_size = 64\n",
    "r = 5.6498\n",
    "\n",
    "print(f'Number of classes: {n_classes}')\n",
    "model = IFE.IFENetClassifier(n_features=n_features, n_classes=n_classes, hidden_size=hidden_size, r=r)\n",
    "\n",
    "loss_fn = tf.keras.losses.BinaryCrossentropy()\n",
    "optimizer = tf.keras.optimizers.Adam(learning_rate=0.001)\n",
    "\n",
    "checkpoint_path = 'checkpoints/ifeNet_telco.weights.h5'\n",
    "\n",
    "callbacks = [tf.keras.callbacks.EarlyStopping(patience=10, monitor='val_loss'),\n",
    "             tf.keras.callbacks.ModelCheckpoint(filepath=checkpoint_path, save_weights_only=True, monitor='val_accuracy')]\n",
    "\n",
    "epochs = 50\n",
    "batch_size = 64\n",
    "model.compile(optimizer=optimizer, loss=loss_fn, metrics=['accuracy'])"
   ]
  },
  {
   "cell_type": "code",
   "execution_count": 13,
   "id": "636f7ee6-dd62-48d3-b706-aa32e8ec7cd0",
   "metadata": {},
   "outputs": [
    {
     "name": "stdout",
     "output_type": "stream",
     "text": [
      "Epoch 1/50\n",
      "\u001b[1m77/77\u001b[0m \u001b[32m━━━━━━━━━━━━━━━━━━━━\u001b[0m\u001b[37m\u001b[0m \u001b[1m17s\u001b[0m 23ms/step - accuracy: 0.7343 - loss: 0.7290 - val_accuracy: 0.7839 - val_loss: 0.5429\n",
      "Epoch 2/50\n",
      "\u001b[1m77/77\u001b[0m \u001b[32m━━━━━━━━━━━━━━━━━━━━\u001b[0m\u001b[37m\u001b[0m \u001b[1m1s\u001b[0m 7ms/step - accuracy: 0.7818 - loss: 0.5273 - val_accuracy: 0.7896 - val_loss: 0.4833\n",
      "Epoch 3/50\n",
      "\u001b[1m77/77\u001b[0m \u001b[32m━━━━━━━━━━━━━━━━━━━━\u001b[0m\u001b[37m\u001b[0m \u001b[1m1s\u001b[0m 7ms/step - accuracy: 0.7866 - loss: 0.4695 - val_accuracy: 0.8000 - val_loss: 0.4638\n",
      "Epoch 4/50\n",
      "\u001b[1m77/77\u001b[0m \u001b[32m━━━━━━━━━━━━━━━━━━━━\u001b[0m\u001b[37m\u001b[0m \u001b[1m1s\u001b[0m 7ms/step - accuracy: 0.7935 - loss: 0.4475 - val_accuracy: 0.7962 - val_loss: 0.4477\n",
      "Epoch 5/50\n",
      "\u001b[1m77/77\u001b[0m \u001b[32m━━━━━━━━━━━━━━━━━━━━\u001b[0m\u001b[37m\u001b[0m \u001b[1m1s\u001b[0m 8ms/step - accuracy: 0.7971 - loss: 0.4347 - val_accuracy: 0.7953 - val_loss: 0.4442\n",
      "Epoch 6/50\n",
      "\u001b[1m77/77\u001b[0m \u001b[32m━━━━━━━━━━━━━━━━━━━━\u001b[0m\u001b[37m\u001b[0m \u001b[1m1s\u001b[0m 8ms/step - accuracy: 0.8020 - loss: 0.4322 - val_accuracy: 0.7896 - val_loss: 0.4421\n",
      "Epoch 7/50\n",
      "\u001b[1m77/77\u001b[0m \u001b[32m━━━━━━━━━━━━━━━━━━━━\u001b[0m\u001b[37m\u001b[0m \u001b[1m1s\u001b[0m 7ms/step - accuracy: 0.8046 - loss: 0.4270 - val_accuracy: 0.7953 - val_loss: 0.4413\n",
      "Epoch 8/50\n",
      "\u001b[1m77/77\u001b[0m \u001b[32m━━━━━━━━━━━━━━━━━━━━\u001b[0m\u001b[37m\u001b[0m \u001b[1m1s\u001b[0m 7ms/step - accuracy: 0.8075 - loss: 0.4204 - val_accuracy: 0.7981 - val_loss: 0.4369\n",
      "Epoch 9/50\n",
      "\u001b[1m77/77\u001b[0m \u001b[32m━━━━━━━━━━━━━━━━━━━━\u001b[0m\u001b[37m\u001b[0m \u001b[1m1s\u001b[0m 7ms/step - accuracy: 0.8014 - loss: 0.4185 - val_accuracy: 0.7972 - val_loss: 0.4348\n",
      "Epoch 10/50\n",
      "\u001b[1m77/77\u001b[0m \u001b[32m━━━━━━━━━━━━━━━━━━━━\u001b[0m\u001b[37m\u001b[0m \u001b[1m1s\u001b[0m 7ms/step - accuracy: 0.8124 - loss: 0.4149 - val_accuracy: 0.7991 - val_loss: 0.4343\n",
      "Epoch 11/50\n",
      "\u001b[1m77/77\u001b[0m \u001b[32m━━━━━━━━━━━━━━━━━━━━\u001b[0m\u001b[37m\u001b[0m \u001b[1m1s\u001b[0m 7ms/step - accuracy: 0.8125 - loss: 0.4110 - val_accuracy: 0.7972 - val_loss: 0.4302\n",
      "Epoch 12/50\n",
      "\u001b[1m77/77\u001b[0m \u001b[32m━━━━━━━━━━━━━━━━━━━━\u001b[0m\u001b[37m\u001b[0m \u001b[1m1s\u001b[0m 7ms/step - accuracy: 0.8118 - loss: 0.4075 - val_accuracy: 0.8019 - val_loss: 0.4275\n",
      "Epoch 13/50\n",
      "\u001b[1m77/77\u001b[0m \u001b[32m━━━━━━━━━━━━━━━━━━━━\u001b[0m\u001b[37m\u001b[0m \u001b[1m1s\u001b[0m 7ms/step - accuracy: 0.8169 - loss: 0.4046 - val_accuracy: 0.7924 - val_loss: 0.4287\n",
      "Epoch 14/50\n",
      "\u001b[1m77/77\u001b[0m \u001b[32m━━━━━━━━━━━━━━━━━━━━\u001b[0m\u001b[37m\u001b[0m \u001b[1m1s\u001b[0m 7ms/step - accuracy: 0.8104 - loss: 0.4088 - val_accuracy: 0.7972 - val_loss: 0.4261\n",
      "Epoch 15/50\n",
      "\u001b[1m77/77\u001b[0m \u001b[32m━━━━━━━━━━━━━━━━━━━━\u001b[0m\u001b[37m\u001b[0m \u001b[1m1s\u001b[0m 7ms/step - accuracy: 0.8135 - loss: 0.4050 - val_accuracy: 0.7943 - val_loss: 0.4269\n",
      "Epoch 16/50\n",
      "\u001b[1m77/77\u001b[0m \u001b[32m━━━━━━━━━━━━━━━━━━━━\u001b[0m\u001b[37m\u001b[0m \u001b[1m1s\u001b[0m 7ms/step - accuracy: 0.8141 - loss: 0.4031 - val_accuracy: 0.8019 - val_loss: 0.4267\n",
      "Epoch 17/50\n",
      "\u001b[1m77/77\u001b[0m \u001b[32m━━━━━━━━━━━━━━━━━━━━\u001b[0m\u001b[37m\u001b[0m \u001b[1m1s\u001b[0m 7ms/step - accuracy: 0.8145 - loss: 0.4035 - val_accuracy: 0.7886 - val_loss: 0.4289\n",
      "Epoch 18/50\n",
      "\u001b[1m77/77\u001b[0m \u001b[32m━━━━━━━━━━━━━━━━━━━━\u001b[0m\u001b[37m\u001b[0m \u001b[1m1s\u001b[0m 7ms/step - accuracy: 0.8158 - loss: 0.4038 - val_accuracy: 0.7991 - val_loss: 0.4261\n",
      "Epoch 19/50\n",
      "\u001b[1m77/77\u001b[0m \u001b[32m━━━━━━━━━━━━━━━━━━━━\u001b[0m\u001b[37m\u001b[0m \u001b[1m1s\u001b[0m 7ms/step - accuracy: 0.8145 - loss: 0.4012 - val_accuracy: 0.7991 - val_loss: 0.4244\n",
      "Epoch 20/50\n",
      "\u001b[1m77/77\u001b[0m \u001b[32m━━━━━━━━━━━━━━━━━━━━\u001b[0m\u001b[37m\u001b[0m \u001b[1m1s\u001b[0m 7ms/step - accuracy: 0.8124 - loss: 0.4020 - val_accuracy: 0.7905 - val_loss: 0.4282\n",
      "Epoch 21/50\n",
      "\u001b[1m77/77\u001b[0m \u001b[32m━━━━━━━━━━━━━━━━━━━━\u001b[0m\u001b[37m\u001b[0m \u001b[1m1s\u001b[0m 7ms/step - accuracy: 0.8140 - loss: 0.4020 - val_accuracy: 0.7953 - val_loss: 0.4263\n",
      "Epoch 22/50\n",
      "\u001b[1m77/77\u001b[0m \u001b[32m━━━━━━━━━━━━━━━━━━━━\u001b[0m\u001b[37m\u001b[0m \u001b[1m1s\u001b[0m 7ms/step - accuracy: 0.8140 - loss: 0.3998 - val_accuracy: 0.7934 - val_loss: 0.4262\n",
      "Epoch 23/50\n",
      "\u001b[1m77/77\u001b[0m \u001b[32m━━━━━━━━━━━━━━━━━━━━\u001b[0m\u001b[37m\u001b[0m \u001b[1m1s\u001b[0m 7ms/step - accuracy: 0.8109 - loss: 0.4014 - val_accuracy: 0.7991 - val_loss: 0.4258\n",
      "Epoch 24/50\n",
      "\u001b[1m77/77\u001b[0m \u001b[32m━━━━━━━━━━━━━━━━━━━━\u001b[0m\u001b[37m\u001b[0m \u001b[1m1s\u001b[0m 7ms/step - accuracy: 0.8157 - loss: 0.3985 - val_accuracy: 0.7991 - val_loss: 0.4242\n",
      "Epoch 25/50\n",
      "\u001b[1m77/77\u001b[0m \u001b[32m━━━━━━━━━━━━━━━━━━━━\u001b[0m\u001b[37m\u001b[0m \u001b[1m1s\u001b[0m 7ms/step - accuracy: 0.8111 - loss: 0.4031 - val_accuracy: 0.7991 - val_loss: 0.4244\n",
      "Epoch 26/50\n",
      "\u001b[1m77/77\u001b[0m \u001b[32m━━━━━━━━━━━━━━━━━━━━\u001b[0m\u001b[37m\u001b[0m \u001b[1m1s\u001b[0m 7ms/step - accuracy: 0.8127 - loss: 0.4006 - val_accuracy: 0.7905 - val_loss: 0.4270\n",
      "Epoch 27/50\n",
      "\u001b[1m77/77\u001b[0m \u001b[32m━━━━━━━━━━━━━━━━━━━━\u001b[0m\u001b[37m\u001b[0m \u001b[1m1s\u001b[0m 8ms/step - accuracy: 0.8126 - loss: 0.4019 - val_accuracy: 0.7858 - val_loss: 0.4291\n",
      "Epoch 28/50\n",
      "\u001b[1m77/77\u001b[0m \u001b[32m━━━━━━━━━━━━━━━━━━━━\u001b[0m\u001b[37m\u001b[0m \u001b[1m1s\u001b[0m 8ms/step - accuracy: 0.8147 - loss: 0.3979 - val_accuracy: 0.7962 - val_loss: 0.4271\n",
      "Epoch 29/50\n",
      "\u001b[1m77/77\u001b[0m \u001b[32m━━━━━━━━━━━━━━━━━━━━\u001b[0m\u001b[37m\u001b[0m \u001b[1m1s\u001b[0m 7ms/step - accuracy: 0.8149 - loss: 0.3992 - val_accuracy: 0.7981 - val_loss: 0.4262\n",
      "Epoch 30/50\n",
      "\u001b[1m77/77\u001b[0m \u001b[32m━━━━━━━━━━━━━━━━━━━━\u001b[0m\u001b[37m\u001b[0m \u001b[1m1s\u001b[0m 8ms/step - accuracy: 0.8163 - loss: 0.3980 - val_accuracy: 0.7934 - val_loss: 0.4272\n",
      "Epoch 31/50\n",
      "\u001b[1m77/77\u001b[0m \u001b[32m━━━━━━━━━━━━━━━━━━━━\u001b[0m\u001b[37m\u001b[0m \u001b[1m1s\u001b[0m 7ms/step - accuracy: 0.8162 - loss: 0.3973 - val_accuracy: 0.7972 - val_loss: 0.4267\n",
      "Epoch 32/50\n",
      "\u001b[1m77/77\u001b[0m \u001b[32m━━━━━━━━━━━━━━━━━━━━\u001b[0m\u001b[37m\u001b[0m \u001b[1m1s\u001b[0m 8ms/step - accuracy: 0.8187 - loss: 0.3983 - val_accuracy: 0.8009 - val_loss: 0.4255\n",
      "Epoch 33/50\n",
      "\u001b[1m77/77\u001b[0m \u001b[32m━━━━━━━━━━━━━━━━━━━━\u001b[0m\u001b[37m\u001b[0m \u001b[1m1s\u001b[0m 7ms/step - accuracy: 0.8190 - loss: 0.3974 - val_accuracy: 0.7991 - val_loss: 0.4261\n",
      "Epoch 34/50\n",
      "\u001b[1m77/77\u001b[0m \u001b[32m━━━━━━━━━━━━━━━━━━━━\u001b[0m\u001b[37m\u001b[0m \u001b[1m1s\u001b[0m 7ms/step - accuracy: 0.8161 - loss: 0.3982 - val_accuracy: 0.8028 - val_loss: 0.4253\n"
     ]
    }
   ],
   "source": [
    "history = model.fit(train_ds, validation_data=vald_ds, epochs=epochs, callbacks=callbacks)"
   ]
  },
  {
   "cell_type": "code",
   "execution_count": 14,
   "id": "3d1d7cfe-5467-4553-9b95-c941c157e6d0",
   "metadata": {},
   "outputs": [],
   "source": [
    "model.load_weights(checkpoint_path)"
   ]
  },
  {
   "cell_type": "code",
   "execution_count": 15,
   "id": "6f83aef4-a734-4c6f-b983-4cd09fee0b8f",
   "metadata": {},
   "outputs": [],
   "source": [
    "y_pred = np.empty((0,))\n",
    "y_test = np.empty((0,))\n",
    "\n",
    "for data,label in test_ds:\n",
    "    y_hat = model(data)\n",
    "    y_hat = np.round(y_hat)\n",
    "    y_pred = np.append(y_pred, y_hat.ravel())\n",
    "\n",
    "    label = label.numpy()\n",
    "    y_test = np.append(y_test, label.ravel())"
   ]
  },
  {
   "cell_type": "code",
   "execution_count": 16,
   "id": "e437a5f0-5b16-422a-8fb3-47dc8c4749c6",
   "metadata": {},
   "outputs": [
    {
     "name": "stdout",
     "output_type": "stream",
     "text": [
      "0.8\n",
      "[[696 100]\n",
      " [111 148]]\n",
      "              precision    recall  f1-score   support\n",
      "\n",
      "         0.0       0.86      0.87      0.87       796\n",
      "         1.0       0.60      0.57      0.58       259\n",
      "\n",
      "    accuracy                           0.80      1055\n",
      "   macro avg       0.73      0.72      0.73      1055\n",
      "weighted avg       0.80      0.80      0.80      1055\n",
      "\n"
     ]
    }
   ],
   "source": [
    "print(accuracy_score(y_test, y_pred))\n",
    "print(confusion_matrix(y_test, y_pred))\n",
    "print(classification_report(y_test, y_pred))"
   ]
  },
  {
   "cell_type": "code",
   "execution_count": 17,
   "id": "357dc5e8-e3fe-4b6d-83da-12ba9283dcc3",
   "metadata": {},
   "outputs": [
    {
     "name": "stdout",
     "output_type": "stream",
     "text": [
      "gender: [0.00396583 0.00368709]\n",
      "SeniorCitizen: [0.01455062 0.04766959]\n",
      "Partner: [0.00592292 0.00313444]\n",
      "Dependents: [0.00289369 0.02467238]\n",
      "tenure: [0.02871167]\n",
      "PhoneService: [0.01177441 0.00842367]\n",
      "MultipleLines: [0.06750987 0.01140814 0.0047435 ]\n",
      "InternetService: [0.00809666 0.06747852 0.00463734]\n",
      "OnlineSecurity: [0.01259974 0.00471788 0.04169517]\n",
      "OnlineBackup: [0.02384704 0.00612591 0.01761342]\n",
      "DeviceProtection: [0.00324003 0.00421393 0.00467762]\n",
      "TechSupport: [0.0337355  0.00347348 0.02277196]\n",
      "StreamingTV: [0.00418844 0.00739328 0.01919173]\n",
      "StreamingMovies: [0.00429465 0.00544259 0.03856732]\n",
      "Contract: [0.08250404 0.03982641 0.11185734]\n",
      "PaperlessBilling: [0.0795919  0.00390136]\n",
      "PaymentMethod: [0.00423606 0.00759046 0.06826049 0.00615047]\n",
      "MonthlyCharges: [0.01448499]\n",
      "TotalCharges: [0.00452651]\n"
     ]
    }
   ],
   "source": [
    "feat_scores = feat_enc.get_feature_scores(input_scores = model.input_scores)"
   ]
  },
  {
   "cell_type": "code",
   "execution_count": null,
   "id": "e1bb2a1a-df9e-4c35-aa58-aad32f81a272",
   "metadata": {},
   "outputs": [],
   "source": []
  }
 ],
 "metadata": {
  "kernelspec": {
   "display_name": "Python 3 (ipykernel)",
   "language": "python",
   "name": "python3"
  },
  "language_info": {
   "codemirror_mode": {
    "name": "ipython",
    "version": 3
   },
   "file_extension": ".py",
   "mimetype": "text/x-python",
   "name": "python",
   "nbconvert_exporter": "python",
   "pygments_lexer": "ipython3",
   "version": "3.9.20"
  }
 },
 "nbformat": 4,
 "nbformat_minor": 5
}
